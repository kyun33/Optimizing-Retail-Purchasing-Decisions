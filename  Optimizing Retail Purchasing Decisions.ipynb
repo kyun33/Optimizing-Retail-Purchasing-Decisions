{
 "cells": [
  {
   "cell_type": "code",
   "execution_count": 2415,
   "id": "29c64e96-c370-4672-90ac-5301da1b808c",
   "metadata": {},
   "outputs": [],
   "source": [
    "# make models\n",
    "from sklearn.metrics import mean_absolute_error, mean_squared_error\n",
    "from sklearn.ensemble import RandomForestRegressor\n",
    "from sklearn.model_selection import train_test_split\n",
    "from sklearn.metrics import accuracy_score, confusion_matrix\n",
    "#read data\n",
    "import numpy as np\n",
    "import pandas as pd\n",
    "#make plot\n",
    "import statsmodels.api as sm\n",
    "import matplotlib.pyplot as plt\n",
    "%matplotlib inline\n",
    "import plotly.express as px\n",
    "import seaborn as sns\n"
   ]
  },
  {
   "cell_type": "code",
   "execution_count": 2417,
   "id": "c99941b5-af00-4258-9e2c-5bc2da68182c",
   "metadata": {},
   "outputs": [],
   "source": [
    "product_df = pd.read_csv('product_info.csv')\n",
    "sales_df = pd.read_csv('sales_data.csv')"
   ]
  },
  {
   "cell_type": "code",
   "execution_count": 2419,
   "id": "27480a4a-7246-46f7-a18d-fe54ec00204d",
   "metadata": {},
   "outputs": [
    {
     "data": {
      "text/html": [
       "<div>\n",
       "<style scoped>\n",
       "    .dataframe tbody tr th:only-of-type {\n",
       "        vertical-align: middle;\n",
       "    }\n",
       "\n",
       "    .dataframe tbody tr th {\n",
       "        vertical-align: top;\n",
       "    }\n",
       "\n",
       "    .dataframe thead th {\n",
       "        text-align: right;\n",
       "    }\n",
       "</style>\n",
       "<table border=\"1\" class=\"dataframe\">\n",
       "  <thead>\n",
       "    <tr style=\"text-align: right;\">\n",
       "      <th></th>\n",
       "      <th>product_id</th>\n",
       "      <th>category</th>\n",
       "      <th>supplier_lead_time_days</th>\n",
       "      <th>current_inventory</th>\n",
       "    </tr>\n",
       "  </thead>\n",
       "  <tbody>\n",
       "    <tr>\n",
       "      <th>0</th>\n",
       "      <td>P001</td>\n",
       "      <td>Toys</td>\n",
       "      <td>9</td>\n",
       "      <td>97</td>\n",
       "    </tr>\n",
       "    <tr>\n",
       "      <th>1</th>\n",
       "      <td>P002</td>\n",
       "      <td>Beauty</td>\n",
       "      <td>6</td>\n",
       "      <td>167</td>\n",
       "    </tr>\n",
       "    <tr>\n",
       "      <th>2</th>\n",
       "      <td>P003</td>\n",
       "      <td>Toys</td>\n",
       "      <td>13</td>\n",
       "      <td>47</td>\n",
       "    </tr>\n",
       "    <tr>\n",
       "      <th>3</th>\n",
       "      <td>P004</td>\n",
       "      <td>Toys</td>\n",
       "      <td>10</td>\n",
       "      <td>139</td>\n",
       "    </tr>\n",
       "    <tr>\n",
       "      <th>4</th>\n",
       "      <td>P005</td>\n",
       "      <td>Electronics</td>\n",
       "      <td>7</td>\n",
       "      <td>197</td>\n",
       "    </tr>\n",
       "    <tr>\n",
       "      <th>5</th>\n",
       "      <td>P006</td>\n",
       "      <td>Beauty</td>\n",
       "      <td>9</td>\n",
       "      <td>30</td>\n",
       "    </tr>\n",
       "    <tr>\n",
       "      <th>6</th>\n",
       "      <td>P007</td>\n",
       "      <td>Electronics</td>\n",
       "      <td>12</td>\n",
       "      <td>170</td>\n",
       "    </tr>\n",
       "    <tr>\n",
       "      <th>7</th>\n",
       "      <td>P008</td>\n",
       "      <td>Beauty</td>\n",
       "      <td>5</td>\n",
       "      <td>67</td>\n",
       "    </tr>\n",
       "    <tr>\n",
       "      <th>8</th>\n",
       "      <td>P009</td>\n",
       "      <td>Beauty</td>\n",
       "      <td>9</td>\n",
       "      <td>31</td>\n",
       "    </tr>\n",
       "    <tr>\n",
       "      <th>9</th>\n",
       "      <td>P010</td>\n",
       "      <td>Electronics</td>\n",
       "      <td>13</td>\n",
       "      <td>98</td>\n",
       "    </tr>\n",
       "    <tr>\n",
       "      <th>10</th>\n",
       "      <td>P011</td>\n",
       "      <td>Electronics</td>\n",
       "      <td>13</td>\n",
       "      <td>58</td>\n",
       "    </tr>\n",
       "    <tr>\n",
       "      <th>11</th>\n",
       "      <td>P012</td>\n",
       "      <td>Beauty</td>\n",
       "      <td>10</td>\n",
       "      <td>68</td>\n",
       "    </tr>\n",
       "    <tr>\n",
       "      <th>12</th>\n",
       "      <td>P013</td>\n",
       "      <td>Home</td>\n",
       "      <td>7</td>\n",
       "      <td>179</td>\n",
       "    </tr>\n",
       "    <tr>\n",
       "      <th>13</th>\n",
       "      <td>P014</td>\n",
       "      <td>Toys</td>\n",
       "      <td>6</td>\n",
       "      <td>197</td>\n",
       "    </tr>\n",
       "    <tr>\n",
       "      <th>14</th>\n",
       "      <td>P015</td>\n",
       "      <td>Electronics</td>\n",
       "      <td>10</td>\n",
       "      <td>24</td>\n",
       "    </tr>\n",
       "    <tr>\n",
       "      <th>15</th>\n",
       "      <td>P016</td>\n",
       "      <td>Toys</td>\n",
       "      <td>10</td>\n",
       "      <td>199</td>\n",
       "    </tr>\n",
       "    <tr>\n",
       "      <th>16</th>\n",
       "      <td>P017</td>\n",
       "      <td>Home</td>\n",
       "      <td>5</td>\n",
       "      <td>199</td>\n",
       "    </tr>\n",
       "    <tr>\n",
       "      <th>17</th>\n",
       "      <td>P018</td>\n",
       "      <td>Home</td>\n",
       "      <td>8</td>\n",
       "      <td>184</td>\n",
       "    </tr>\n",
       "    <tr>\n",
       "      <th>18</th>\n",
       "      <td>P019</td>\n",
       "      <td>Home</td>\n",
       "      <td>7</td>\n",
       "      <td>199</td>\n",
       "    </tr>\n",
       "    <tr>\n",
       "      <th>19</th>\n",
       "      <td>P020</td>\n",
       "      <td>Electronics</td>\n",
       "      <td>4</td>\n",
       "      <td>60</td>\n",
       "    </tr>\n",
       "  </tbody>\n",
       "</table>\n",
       "</div>"
      ],
      "text/plain": [
       "   product_id     category  supplier_lead_time_days  current_inventory\n",
       "0        P001         Toys                        9                 97\n",
       "1        P002       Beauty                        6                167\n",
       "2        P003         Toys                       13                 47\n",
       "3        P004         Toys                       10                139\n",
       "4        P005  Electronics                        7                197\n",
       "5        P006       Beauty                        9                 30\n",
       "6        P007  Electronics                       12                170\n",
       "7        P008       Beauty                        5                 67\n",
       "8        P009       Beauty                        9                 31\n",
       "9        P010  Electronics                       13                 98\n",
       "10       P011  Electronics                       13                 58\n",
       "11       P012       Beauty                       10                 68\n",
       "12       P013         Home                        7                179\n",
       "13       P014         Toys                        6                197\n",
       "14       P015  Electronics                       10                 24\n",
       "15       P016         Toys                       10                199\n",
       "16       P017         Home                        5                199\n",
       "17       P018         Home                        8                184\n",
       "18       P019         Home                        7                199\n",
       "19       P020  Electronics                        4                 60"
      ]
     },
     "execution_count": 2419,
     "metadata": {},
     "output_type": "execute_result"
    }
   ],
   "source": [
    "product_df"
   ]
  },
  {
   "cell_type": "code",
   "execution_count": 2421,
   "id": "4ade8830-a805-477b-bf64-9aa8fe799983",
   "metadata": {},
   "outputs": [
    {
     "data": {
      "text/html": [
       "<div>\n",
       "<style scoped>\n",
       "    .dataframe tbody tr th:only-of-type {\n",
       "        vertical-align: middle;\n",
       "    }\n",
       "\n",
       "    .dataframe tbody tr th {\n",
       "        vertical-align: top;\n",
       "    }\n",
       "\n",
       "    .dataframe thead th {\n",
       "        text-align: right;\n",
       "    }\n",
       "</style>\n",
       "<table border=\"1\" class=\"dataframe\">\n",
       "  <thead>\n",
       "    <tr style=\"text-align: right;\">\n",
       "      <th></th>\n",
       "      <th>date</th>\n",
       "      <th>product_id</th>\n",
       "      <th>units_sold</th>\n",
       "      <th>price_per_unit</th>\n",
       "    </tr>\n",
       "  </thead>\n",
       "  <tbody>\n",
       "    <tr>\n",
       "      <th>0</th>\n",
       "      <td>2024-10-01</td>\n",
       "      <td>P001</td>\n",
       "      <td>7</td>\n",
       "      <td>64.90</td>\n",
       "    </tr>\n",
       "    <tr>\n",
       "      <th>1</th>\n",
       "      <td>2024-10-01</td>\n",
       "      <td>P002</td>\n",
       "      <td>1</td>\n",
       "      <td>84.99</td>\n",
       "    </tr>\n",
       "    <tr>\n",
       "      <th>2</th>\n",
       "      <td>2024-10-01</td>\n",
       "      <td>P003</td>\n",
       "      <td>3</td>\n",
       "      <td>26.40</td>\n",
       "    </tr>\n",
       "    <tr>\n",
       "      <th>3</th>\n",
       "      <td>2024-10-01</td>\n",
       "      <td>P004</td>\n",
       "      <td>1</td>\n",
       "      <td>77.98</td>\n",
       "    </tr>\n",
       "    <tr>\n",
       "      <th>4</th>\n",
       "      <td>2024-10-01</td>\n",
       "      <td>P005</td>\n",
       "      <td>0</td>\n",
       "      <td>61.09</td>\n",
       "    </tr>\n",
       "    <tr>\n",
       "      <th>...</th>\n",
       "      <td>...</td>\n",
       "      <td>...</td>\n",
       "      <td>...</td>\n",
       "      <td>...</td>\n",
       "    </tr>\n",
       "    <tr>\n",
       "      <th>3635</th>\n",
       "      <td>2025-03-31</td>\n",
       "      <td>P016</td>\n",
       "      <td>6</td>\n",
       "      <td>50.24</td>\n",
       "    </tr>\n",
       "    <tr>\n",
       "      <th>3636</th>\n",
       "      <td>2025-03-31</td>\n",
       "      <td>P017</td>\n",
       "      <td>9</td>\n",
       "      <td>18.40</td>\n",
       "    </tr>\n",
       "    <tr>\n",
       "      <th>3637</th>\n",
       "      <td>2025-03-31</td>\n",
       "      <td>P018</td>\n",
       "      <td>4</td>\n",
       "      <td>56.88</td>\n",
       "    </tr>\n",
       "    <tr>\n",
       "      <th>3638</th>\n",
       "      <td>2025-03-31</td>\n",
       "      <td>P019</td>\n",
       "      <td>6</td>\n",
       "      <td>96.05</td>\n",
       "    </tr>\n",
       "    <tr>\n",
       "      <th>3639</th>\n",
       "      <td>2025-03-31</td>\n",
       "      <td>P020</td>\n",
       "      <td>6</td>\n",
       "      <td>72.84</td>\n",
       "    </tr>\n",
       "  </tbody>\n",
       "</table>\n",
       "<p>3640 rows × 4 columns</p>\n",
       "</div>"
      ],
      "text/plain": [
       "            date product_id  units_sold  price_per_unit\n",
       "0     2024-10-01       P001           7           64.90\n",
       "1     2024-10-01       P002           1           84.99\n",
       "2     2024-10-01       P003           3           26.40\n",
       "3     2024-10-01       P004           1           77.98\n",
       "4     2024-10-01       P005           0           61.09\n",
       "...          ...        ...         ...             ...\n",
       "3635  2025-03-31       P016           6           50.24\n",
       "3636  2025-03-31       P017           9           18.40\n",
       "3637  2025-03-31       P018           4           56.88\n",
       "3638  2025-03-31       P019           6           96.05\n",
       "3639  2025-03-31       P020           6           72.84\n",
       "\n",
       "[3640 rows x 4 columns]"
      ]
     },
     "execution_count": 2421,
     "metadata": {},
     "output_type": "execute_result"
    }
   ],
   "source": [
    "sales_df"
   ]
  },
  {
   "cell_type": "code",
   "execution_count": 2423,
   "id": "a49e16e3-b560-4f36-9c4a-f993d74b33d5",
   "metadata": {},
   "outputs": [
    {
     "data": {
      "text/html": [
       "<div>\n",
       "<style scoped>\n",
       "    .dataframe tbody tr th:only-of-type {\n",
       "        vertical-align: middle;\n",
       "    }\n",
       "\n",
       "    .dataframe tbody tr th {\n",
       "        vertical-align: top;\n",
       "    }\n",
       "\n",
       "    .dataframe thead th {\n",
       "        text-align: right;\n",
       "    }\n",
       "</style>\n",
       "<table border=\"1\" class=\"dataframe\">\n",
       "  <thead>\n",
       "    <tr style=\"text-align: right;\">\n",
       "      <th></th>\n",
       "      <th>date</th>\n",
       "      <th>product_id</th>\n",
       "      <th>units_sold</th>\n",
       "      <th>price_per_unit</th>\n",
       "      <th>category</th>\n",
       "      <th>supplier_lead_time_days</th>\n",
       "      <th>current_inventory</th>\n",
       "    </tr>\n",
       "  </thead>\n",
       "  <tbody>\n",
       "    <tr>\n",
       "      <th>0</th>\n",
       "      <td>2024-10-01</td>\n",
       "      <td>P001</td>\n",
       "      <td>7</td>\n",
       "      <td>64.90</td>\n",
       "      <td>Toys</td>\n",
       "      <td>9</td>\n",
       "      <td>97</td>\n",
       "    </tr>\n",
       "    <tr>\n",
       "      <th>1</th>\n",
       "      <td>2024-10-01</td>\n",
       "      <td>P002</td>\n",
       "      <td>1</td>\n",
       "      <td>84.99</td>\n",
       "      <td>Beauty</td>\n",
       "      <td>6</td>\n",
       "      <td>167</td>\n",
       "    </tr>\n",
       "    <tr>\n",
       "      <th>2</th>\n",
       "      <td>2024-10-01</td>\n",
       "      <td>P003</td>\n",
       "      <td>3</td>\n",
       "      <td>26.40</td>\n",
       "      <td>Toys</td>\n",
       "      <td>13</td>\n",
       "      <td>47</td>\n",
       "    </tr>\n",
       "    <tr>\n",
       "      <th>3</th>\n",
       "      <td>2024-10-01</td>\n",
       "      <td>P004</td>\n",
       "      <td>1</td>\n",
       "      <td>77.98</td>\n",
       "      <td>Toys</td>\n",
       "      <td>10</td>\n",
       "      <td>139</td>\n",
       "    </tr>\n",
       "    <tr>\n",
       "      <th>4</th>\n",
       "      <td>2024-10-01</td>\n",
       "      <td>P005</td>\n",
       "      <td>0</td>\n",
       "      <td>61.09</td>\n",
       "      <td>Electronics</td>\n",
       "      <td>7</td>\n",
       "      <td>197</td>\n",
       "    </tr>\n",
       "    <tr>\n",
       "      <th>...</th>\n",
       "      <td>...</td>\n",
       "      <td>...</td>\n",
       "      <td>...</td>\n",
       "      <td>...</td>\n",
       "      <td>...</td>\n",
       "      <td>...</td>\n",
       "      <td>...</td>\n",
       "    </tr>\n",
       "    <tr>\n",
       "      <th>3635</th>\n",
       "      <td>2025-03-31</td>\n",
       "      <td>P016</td>\n",
       "      <td>6</td>\n",
       "      <td>50.24</td>\n",
       "      <td>Toys</td>\n",
       "      <td>10</td>\n",
       "      <td>199</td>\n",
       "    </tr>\n",
       "    <tr>\n",
       "      <th>3636</th>\n",
       "      <td>2025-03-31</td>\n",
       "      <td>P017</td>\n",
       "      <td>9</td>\n",
       "      <td>18.40</td>\n",
       "      <td>Home</td>\n",
       "      <td>5</td>\n",
       "      <td>199</td>\n",
       "    </tr>\n",
       "    <tr>\n",
       "      <th>3637</th>\n",
       "      <td>2025-03-31</td>\n",
       "      <td>P018</td>\n",
       "      <td>4</td>\n",
       "      <td>56.88</td>\n",
       "      <td>Home</td>\n",
       "      <td>8</td>\n",
       "      <td>184</td>\n",
       "    </tr>\n",
       "    <tr>\n",
       "      <th>3638</th>\n",
       "      <td>2025-03-31</td>\n",
       "      <td>P019</td>\n",
       "      <td>6</td>\n",
       "      <td>96.05</td>\n",
       "      <td>Home</td>\n",
       "      <td>7</td>\n",
       "      <td>199</td>\n",
       "    </tr>\n",
       "    <tr>\n",
       "      <th>3639</th>\n",
       "      <td>2025-03-31</td>\n",
       "      <td>P020</td>\n",
       "      <td>6</td>\n",
       "      <td>72.84</td>\n",
       "      <td>Electronics</td>\n",
       "      <td>4</td>\n",
       "      <td>60</td>\n",
       "    </tr>\n",
       "  </tbody>\n",
       "</table>\n",
       "<p>3640 rows × 7 columns</p>\n",
       "</div>"
      ],
      "text/plain": [
       "           date product_id  units_sold  price_per_unit     category  \\\n",
       "0    2024-10-01       P001           7           64.90         Toys   \n",
       "1    2024-10-01       P002           1           84.99       Beauty   \n",
       "2    2024-10-01       P003           3           26.40         Toys   \n",
       "3    2024-10-01       P004           1           77.98         Toys   \n",
       "4    2024-10-01       P005           0           61.09  Electronics   \n",
       "...         ...        ...         ...             ...          ...   \n",
       "3635 2025-03-31       P016           6           50.24         Toys   \n",
       "3636 2025-03-31       P017           9           18.40         Home   \n",
       "3637 2025-03-31       P018           4           56.88         Home   \n",
       "3638 2025-03-31       P019           6           96.05         Home   \n",
       "3639 2025-03-31       P020           6           72.84  Electronics   \n",
       "\n",
       "      supplier_lead_time_days  current_inventory  \n",
       "0                           9                 97  \n",
       "1                           6                167  \n",
       "2                          13                 47  \n",
       "3                          10                139  \n",
       "4                           7                197  \n",
       "...                       ...                ...  \n",
       "3635                       10                199  \n",
       "3636                        5                199  \n",
       "3637                        8                184  \n",
       "3638                        7                199  \n",
       "3639                        4                 60  \n",
       "\n",
       "[3640 rows x 7 columns]"
      ]
     },
     "execution_count": 2423,
     "metadata": {},
     "output_type": "execute_result"
    }
   ],
   "source": [
    "merged_data = pd.merge(sales_df,product_df, on='product_id')\n",
    "merged_data['date'] = pd.to_datetime(merged_data['date'])\n",
    "merged_data\n"
   ]
  },
  {
   "cell_type": "code",
   "execution_count": 2425,
   "id": "3d2b3588-b0f2-4611-b394-9033542e16fe",
   "metadata": {},
   "outputs": [
    {
     "data": {
      "text/plain": [
       "182.0"
      ]
     },
     "execution_count": 2425,
     "metadata": {},
     "output_type": "execute_result"
    }
   ],
   "source": [
    "num_of_days = sales_df.shape[0]/product_df.shape[0]\n",
    "num_of_days"
   ]
  },
  {
   "cell_type": "markdown",
   "id": "22a8f8b5-6ec2-44c3-847a-cbe508d186cf",
   "metadata": {},
   "source": [
    "## Sells By Different Categories (Exploratory Analysis)"
   ]
  },
  {
   "cell_type": "code",
   "execution_count": 2428,
   "id": "6c62cf06",
   "metadata": {},
   "outputs": [
    {
     "data": {
      "text/plain": [
       "([0, 1, 2, 3, 4, 5, 6, 7, 8, 9, 10, 11, 12, 13, 14, 15, 16, 17, 18, 19],\n",
       " [Text(0, 0, 'P001'),\n",
       "  Text(1, 0, 'P002'),\n",
       "  Text(2, 0, 'P003'),\n",
       "  Text(3, 0, 'P004'),\n",
       "  Text(4, 0, 'P005'),\n",
       "  Text(5, 0, 'P006'),\n",
       "  Text(6, 0, 'P007'),\n",
       "  Text(7, 0, 'P008'),\n",
       "  Text(8, 0, 'P009'),\n",
       "  Text(9, 0, 'P010'),\n",
       "  Text(10, 0, 'P011'),\n",
       "  Text(11, 0, 'P012'),\n",
       "  Text(12, 0, 'P013'),\n",
       "  Text(13, 0, 'P014'),\n",
       "  Text(14, 0, 'P015'),\n",
       "  Text(15, 0, 'P016'),\n",
       "  Text(16, 0, 'P017'),\n",
       "  Text(17, 0, 'P018'),\n",
       "  Text(18, 0, 'P019'),\n",
       "  Text(19, 0, 'P020')])"
      ]
     },
     "execution_count": 2428,
     "metadata": {},
     "output_type": "execute_result"
    },
    {
     "data": {
      "image/png": "[encoded data removed]",
      "text/plain": [
       "<Figure size 640x480 with 1 Axes>"
      ]
     },
     "metadata": {},
     "output_type": "display_data"
    }
   ],
   "source": [
    "product_sales = merged_data.groupby('product_id')['units_sold'].sum().reset_index().sort_values(by='product_id', ascending=True)\n",
    "sns.barplot(data=product_sales, x='product_id', y='units_sold')\n",
    "plt.title(\"Count of Each Product Sold in Last 182 Days\")\n",
    "plt.xticks(rotation=45)"
   ]
  },
  {
   "cell_type": "code",
   "execution_count": 2430,
   "id": "c73980a6-5111-44ef-a55e-545c752a394b",
   "metadata": {},
   "outputs": [
    {
     "data": {
      "text/html": [
       "<div>\n",
       "<style scoped>\n",
       "    .dataframe tbody tr th:only-of-type {\n",
       "        vertical-align: middle;\n",
       "    }\n",
       "\n",
       "    .dataframe tbody tr th {\n",
       "        vertical-align: top;\n",
       "    }\n",
       "\n",
       "    .dataframe thead th {\n",
       "        text-align: right;\n",
       "    }\n",
       "</style>\n",
       "<table border=\"1\" class=\"dataframe\">\n",
       "  <thead>\n",
       "    <tr style=\"text-align: right;\">\n",
       "      <th></th>\n",
       "      <th>date</th>\n",
       "      <th>product_id</th>\n",
       "      <th>units_sold</th>\n",
       "      <th>price_per_unit</th>\n",
       "      <th>category</th>\n",
       "      <th>supplier_lead_time_days</th>\n",
       "      <th>current_inventory</th>\n",
       "      <th>revenue</th>\n",
       "    </tr>\n",
       "  </thead>\n",
       "  <tbody>\n",
       "    <tr>\n",
       "      <th>0</th>\n",
       "      <td>2024-10-01</td>\n",
       "      <td>P001</td>\n",
       "      <td>7</td>\n",
       "      <td>64.90</td>\n",
       "      <td>Toys</td>\n",
       "      <td>9</td>\n",
       "      <td>97</td>\n",
       "      <td>454.30</td>\n",
       "    </tr>\n",
       "    <tr>\n",
       "      <th>1</th>\n",
       "      <td>2024-10-01</td>\n",
       "      <td>P002</td>\n",
       "      <td>1</td>\n",
       "      <td>84.99</td>\n",
       "      <td>Beauty</td>\n",
       "      <td>6</td>\n",
       "      <td>167</td>\n",
       "      <td>84.99</td>\n",
       "    </tr>\n",
       "    <tr>\n",
       "      <th>2</th>\n",
       "      <td>2024-10-01</td>\n",
       "      <td>P003</td>\n",
       "      <td>3</td>\n",
       "      <td>26.40</td>\n",
       "      <td>Toys</td>\n",
       "      <td>13</td>\n",
       "      <td>47</td>\n",
       "      <td>79.20</td>\n",
       "    </tr>\n",
       "    <tr>\n",
       "      <th>3</th>\n",
       "      <td>2024-10-01</td>\n",
       "      <td>P004</td>\n",
       "      <td>1</td>\n",
       "      <td>77.98</td>\n",
       "      <td>Toys</td>\n",
       "      <td>10</td>\n",
       "      <td>139</td>\n",
       "      <td>77.98</td>\n",
       "    </tr>\n",
       "    <tr>\n",
       "      <th>4</th>\n",
       "      <td>2024-10-01</td>\n",
       "      <td>P005</td>\n",
       "      <td>0</td>\n",
       "      <td>61.09</td>\n",
       "      <td>Electronics</td>\n",
       "      <td>7</td>\n",
       "      <td>197</td>\n",
       "      <td>0.00</td>\n",
       "    </tr>\n",
       "    <tr>\n",
       "      <th>...</th>\n",
       "      <td>...</td>\n",
       "      <td>...</td>\n",
       "      <td>...</td>\n",
       "      <td>...</td>\n",
       "      <td>...</td>\n",
       "      <td>...</td>\n",
       "      <td>...</td>\n",
       "      <td>...</td>\n",
       "    </tr>\n",
       "    <tr>\n",
       "      <th>3635</th>\n",
       "      <td>2025-03-31</td>\n",
       "      <td>P016</td>\n",
       "      <td>6</td>\n",
       "      <td>50.24</td>\n",
       "      <td>Toys</td>\n",
       "      <td>10</td>\n",
       "      <td>199</td>\n",
       "      <td>301.44</td>\n",
       "    </tr>\n",
       "    <tr>\n",
       "      <th>3636</th>\n",
       "      <td>2025-03-31</td>\n",
       "      <td>P017</td>\n",
       "      <td>9</td>\n",
       "      <td>18.40</td>\n",
       "      <td>Home</td>\n",
       "      <td>5</td>\n",
       "      <td>199</td>\n",
       "      <td>165.60</td>\n",
       "    </tr>\n",
       "    <tr>\n",
       "      <th>3637</th>\n",
       "      <td>2025-03-31</td>\n",
       "      <td>P018</td>\n",
       "      <td>4</td>\n",
       "      <td>56.88</td>\n",
       "      <td>Home</td>\n",
       "      <td>8</td>\n",
       "      <td>184</td>\n",
       "      <td>227.52</td>\n",
       "    </tr>\n",
       "    <tr>\n",
       "      <th>3638</th>\n",
       "      <td>2025-03-31</td>\n",
       "      <td>P019</td>\n",
       "      <td>6</td>\n",
       "      <td>96.05</td>\n",
       "      <td>Home</td>\n",
       "      <td>7</td>\n",
       "      <td>199</td>\n",
       "      <td>576.30</td>\n",
       "    </tr>\n",
       "    <tr>\n",
       "      <th>3639</th>\n",
       "      <td>2025-03-31</td>\n",
       "      <td>P020</td>\n",
       "      <td>6</td>\n",
       "      <td>72.84</td>\n",
       "      <td>Electronics</td>\n",
       "      <td>4</td>\n",
       "      <td>60</td>\n",
       "      <td>437.04</td>\n",
       "    </tr>\n",
       "  </tbody>\n",
       "</table>\n",
       "<p>3640 rows × 8 columns</p>\n",
       "</div>"
      ],
      "text/plain": [
       "           date product_id  units_sold  price_per_unit     category  \\\n",
       "0    2024-10-01       P001           7           64.90         Toys   \n",
       "1    2024-10-01       P002           1           84.99       Beauty   \n",
       "2    2024-10-01       P003           3           26.40         Toys   \n",
       "3    2024-10-01       P004           1           77.98         Toys   \n",
       "4    2024-10-01       P005           0           61.09  Electronics   \n",
       "...         ...        ...         ...             ...          ...   \n",
       "3635 2025-03-31       P016           6           50.24         Toys   \n",
       "3636 2025-03-31       P017           9           18.40         Home   \n",
       "3637 2025-03-31       P018           4           56.88         Home   \n",
       "3638 2025-03-31       P019           6           96.05         Home   \n",
       "3639 2025-03-31       P020           6           72.84  Electronics   \n",
       "\n",
       "      supplier_lead_time_days  current_inventory  revenue  \n",
       "0                           9                 97   454.30  \n",
       "1                           6                167    84.99  \n",
       "2                          13                 47    79.20  \n",
       "3                          10                139    77.98  \n",
       "4                           7                197     0.00  \n",
       "...                       ...                ...      ...  \n",
       "3635                       10                199   301.44  \n",
       "3636                        5                199   165.60  \n",
       "3637                        8                184   227.52  \n",
       "3638                        7                199   576.30  \n",
       "3639                        4                 60   437.04  \n",
       "\n",
       "[3640 rows x 8 columns]"
      ]
     },
     "execution_count": 2430,
     "metadata": {},
     "output_type": "execute_result"
    }
   ],
   "source": [
    "merged_data['revenue'] = merged_data['units_sold'] * merged_data['price_per_unit']\n",
    "merged_data"
   ]
  },
  {
   "cell_type": "code",
   "execution_count": 2432,
   "id": "a234a8f9",
   "metadata": {},
   "outputs": [
    {
     "data": {
      "text/html": [
       "<div>\n",
       "<style scoped>\n",
       "    .dataframe tbody tr th:only-of-type {\n",
       "        vertical-align: middle;\n",
       "    }\n",
       "\n",
       "    .dataframe tbody tr th {\n",
       "        vertical-align: top;\n",
       "    }\n",
       "\n",
       "    .dataframe thead th {\n",
       "        text-align: right;\n",
       "    }\n",
       "</style>\n",
       "<table border=\"1\" class=\"dataframe\">\n",
       "  <thead>\n",
       "    <tr style=\"text-align: right;\">\n",
       "      <th></th>\n",
       "      <th>month</th>\n",
       "      <th>units_sold</th>\n",
       "    </tr>\n",
       "  </thead>\n",
       "  <tbody>\n",
       "    <tr>\n",
       "      <th>0</th>\n",
       "      <td>2024-10</td>\n",
       "      <td>2953</td>\n",
       "    </tr>\n",
       "    <tr>\n",
       "      <th>1</th>\n",
       "      <td>2024-11</td>\n",
       "      <td>2755</td>\n",
       "    </tr>\n",
       "    <tr>\n",
       "      <th>2</th>\n",
       "      <td>2024-12</td>\n",
       "      <td>2853</td>\n",
       "    </tr>\n",
       "    <tr>\n",
       "      <th>3</th>\n",
       "      <td>2025-01</td>\n",
       "      <td>2764</td>\n",
       "    </tr>\n",
       "    <tr>\n",
       "      <th>4</th>\n",
       "      <td>2025-02</td>\n",
       "      <td>2555</td>\n",
       "    </tr>\n",
       "    <tr>\n",
       "      <th>5</th>\n",
       "      <td>2025-03</td>\n",
       "      <td>2893</td>\n",
       "    </tr>\n",
       "  </tbody>\n",
       "</table>\n",
       "</div>"
      ],
      "text/plain": [
       "     month  units_sold\n",
       "0  2024-10        2953\n",
       "1  2024-11        2755\n",
       "2  2024-12        2853\n",
       "3  2025-01        2764\n",
       "4  2025-02        2555\n",
       "5  2025-03        2893"
      ]
     },
     "execution_count": 2432,
     "metadata": {},
     "output_type": "execute_result"
    }
   ],
   "source": [
    "#Analyzing Total Sells by Month\n",
    "merged_data['month'] = merged_data['date'].dt.to_period('M')\n",
    "monthly_sales = merged_data.groupby('month')['units_sold'].sum().reset_index()\n",
    "monthly_sales"
   ]
  },
  {
   "cell_type": "markdown",
   "id": "8ad6ed9a-7388-40d8-9321-cc4251585bac",
   "metadata": {},
   "source": [
    "There doesn't seem to be any visible trend of increasing/decreasing of units sold due to months."
   ]
  },
  {
   "cell_type": "code",
   "execution_count": 2435,
   "id": "ccc26c04-2716-44ac-bc34-e5fc6046050a",
   "metadata": {},
   "outputs": [
    {
     "data": {
      "text/html": [
       "<div>\n",
       "<style scoped>\n",
       "    .dataframe tbody tr th:only-of-type {\n",
       "        vertical-align: middle;\n",
       "    }\n",
       "\n",
       "    .dataframe tbody tr th {\n",
       "        vertical-align: top;\n",
       "    }\n",
       "\n",
       "    .dataframe thead th {\n",
       "        text-align: right;\n",
       "    }\n",
       "</style>\n",
       "<table border=\"1\" class=\"dataframe\">\n",
       "  <thead>\n",
       "    <tr style=\"text-align: right;\">\n",
       "      <th></th>\n",
       "      <th>category</th>\n",
       "      <th>units_sold</th>\n",
       "      <th>revenue</th>\n",
       "    </tr>\n",
       "  </thead>\n",
       "  <tbody>\n",
       "    <tr>\n",
       "      <th>0</th>\n",
       "      <td>Beauty</td>\n",
       "      <td>4131</td>\n",
       "      <td>225175.56</td>\n",
       "    </tr>\n",
       "    <tr>\n",
       "      <th>1</th>\n",
       "      <td>Electronics</td>\n",
       "      <td>5119</td>\n",
       "      <td>285254.33</td>\n",
       "    </tr>\n",
       "    <tr>\n",
       "      <th>2</th>\n",
       "      <td>Home</td>\n",
       "      <td>3335</td>\n",
       "      <td>182491.67</td>\n",
       "    </tr>\n",
       "    <tr>\n",
       "      <th>3</th>\n",
       "      <td>Toys</td>\n",
       "      <td>4188</td>\n",
       "      <td>231374.61</td>\n",
       "    </tr>\n",
       "  </tbody>\n",
       "</table>\n",
       "</div>"
      ],
      "text/plain": [
       "      category  units_sold    revenue\n",
       "0       Beauty        4131  225175.56\n",
       "1  Electronics        5119  285254.33\n",
       "2         Home        3335  182491.67\n",
       "3         Toys        4188  231374.61"
      ]
     },
     "execution_count": 2435,
     "metadata": {},
     "output_type": "execute_result"
    }
   ],
   "source": [
    "category_sales = merged_data.groupby('category')[['units_sold','revenue']].sum().reset_index()\n",
    "category_sales "
   ]
  },
  {
   "cell_type": "code",
   "execution_count": 2437,
   "id": "e516e761",
   "metadata": {},
   "outputs": [],
   "source": [
    "category_sales_units_sold = merged_data.groupby('category')['units_sold'].sum()\n"
   ]
  },
  {
   "cell_type": "code",
   "execution_count": 2439,
   "id": "b6b13d07-54eb-4637-b5c2-cfe2d6f46260",
   "metadata": {},
   "outputs": [
    {
     "data": {
      "text/plain": [
       "[]"
      ]
     },
     "execution_count": 2439,
     "metadata": {},
     "output_type": "execute_result"
    },
    {
     "data": {
      "image/png": "[encoded data removed]",
      "text/plain": [
       "<Figure size 640x480 with 1 Axes>"
      ]
     },
     "metadata": {},
     "output_type": "display_data"
    }
   ],
   "source": [
    "plt.pie(category_sales_units_sold.values, labels=category_sales_units_sold.index, autopct='%1.1f%%')\n",
    "plt.plot()"
   ]
  },
  {
   "cell_type": "code",
   "execution_count": 2441,
   "id": "9ed04a6a-46fc-4868-b6df-8a51c8746aae",
   "metadata": {},
   "outputs": [],
   "source": [
    "category_sales_revenue = merged_data.groupby('category')['revenue'].sum()"
   ]
  },
  {
   "cell_type": "code",
   "execution_count": 2443,
   "id": "106227e9-0893-4dff-83d2-d555462785fd",
   "metadata": {},
   "outputs": [
    {
     "data": {
      "text/plain": [
       "[]"
      ]
     },
     "execution_count": 2443,
     "metadata": {},
     "output_type": "execute_result"
    },
    {
     "data": {
      "image/png": "[encoded data removed]",
      "text/plain": [
       "<Figure size 640x480 with 1 Axes>"
      ]
     },
     "metadata": {},
     "output_type": "display_data"
    }
   ],
   "source": [
    "plt.pie(category_sales_revenue.values, labels=category_sales_revenue.index, autopct='%1.1f%%')\n",
    "plt.plot()"
   ]
  },
  {
   "cell_type": "markdown",
   "id": "f82adc04-4143-460f-bdc5-7654e0802d0d",
   "metadata": {},
   "source": [
    "We see that electronics tend to be the highest selling and generating the most revenue while home supplies tend to be the lowest."
   ]
  },
  {
   "cell_type": "code",
   "execution_count": 2446,
   "id": "5767a092-6dfb-4ae8-bf00-024ae1e9664e",
   "metadata": {},
   "outputs": [
    {
     "data": {
      "text/html": [
       "<div>\n",
       "<style scoped>\n",
       "    .dataframe tbody tr th:only-of-type {\n",
       "        vertical-align: middle;\n",
       "    }\n",
       "\n",
       "    .dataframe tbody tr th {\n",
       "        vertical-align: top;\n",
       "    }\n",
       "\n",
       "    .dataframe thead th {\n",
       "        text-align: right;\n",
       "    }\n",
       "</style>\n",
       "<table border=\"1\" class=\"dataframe\">\n",
       "  <thead>\n",
       "    <tr style=\"text-align: right;\">\n",
       "      <th></th>\n",
       "      <th>product_id</th>\n",
       "      <th>category</th>\n",
       "      <th>supplier_lead_time_days</th>\n",
       "      <th>current_inventory</th>\n",
       "      <th>stockout?</th>\n",
       "    </tr>\n",
       "  </thead>\n",
       "  <tbody>\n",
       "    <tr>\n",
       "      <th>0</th>\n",
       "      <td>P001</td>\n",
       "      <td>Toys</td>\n",
       "      <td>9</td>\n",
       "      <td>97</td>\n",
       "      <td>False</td>\n",
       "    </tr>\n",
       "    <tr>\n",
       "      <th>1</th>\n",
       "      <td>P002</td>\n",
       "      <td>Beauty</td>\n",
       "      <td>6</td>\n",
       "      <td>167</td>\n",
       "      <td>False</td>\n",
       "    </tr>\n",
       "    <tr>\n",
       "      <th>2</th>\n",
       "      <td>P003</td>\n",
       "      <td>Toys</td>\n",
       "      <td>13</td>\n",
       "      <td>47</td>\n",
       "      <td>True</td>\n",
       "    </tr>\n",
       "    <tr>\n",
       "      <th>3</th>\n",
       "      <td>P004</td>\n",
       "      <td>Toys</td>\n",
       "      <td>10</td>\n",
       "      <td>139</td>\n",
       "      <td>False</td>\n",
       "    </tr>\n",
       "    <tr>\n",
       "      <th>4</th>\n",
       "      <td>P005</td>\n",
       "      <td>Electronics</td>\n",
       "      <td>7</td>\n",
       "      <td>197</td>\n",
       "      <td>False</td>\n",
       "    </tr>\n",
       "    <tr>\n",
       "      <th>5</th>\n",
       "      <td>P006</td>\n",
       "      <td>Beauty</td>\n",
       "      <td>9</td>\n",
       "      <td>30</td>\n",
       "      <td>True</td>\n",
       "    </tr>\n",
       "    <tr>\n",
       "      <th>6</th>\n",
       "      <td>P007</td>\n",
       "      <td>Electronics</td>\n",
       "      <td>12</td>\n",
       "      <td>170</td>\n",
       "      <td>False</td>\n",
       "    </tr>\n",
       "    <tr>\n",
       "      <th>7</th>\n",
       "      <td>P008</td>\n",
       "      <td>Beauty</td>\n",
       "      <td>5</td>\n",
       "      <td>67</td>\n",
       "      <td>False</td>\n",
       "    </tr>\n",
       "    <tr>\n",
       "      <th>8</th>\n",
       "      <td>P009</td>\n",
       "      <td>Beauty</td>\n",
       "      <td>9</td>\n",
       "      <td>31</td>\n",
       "      <td>True</td>\n",
       "    </tr>\n",
       "    <tr>\n",
       "      <th>9</th>\n",
       "      <td>P010</td>\n",
       "      <td>Electronics</td>\n",
       "      <td>13</td>\n",
       "      <td>98</td>\n",
       "      <td>False</td>\n",
       "    </tr>\n",
       "    <tr>\n",
       "      <th>10</th>\n",
       "      <td>P011</td>\n",
       "      <td>Electronics</td>\n",
       "      <td>13</td>\n",
       "      <td>58</td>\n",
       "      <td>True</td>\n",
       "    </tr>\n",
       "    <tr>\n",
       "      <th>11</th>\n",
       "      <td>P012</td>\n",
       "      <td>Beauty</td>\n",
       "      <td>10</td>\n",
       "      <td>68</td>\n",
       "      <td>False</td>\n",
       "    </tr>\n",
       "    <tr>\n",
       "      <th>12</th>\n",
       "      <td>P013</td>\n",
       "      <td>Home</td>\n",
       "      <td>7</td>\n",
       "      <td>179</td>\n",
       "      <td>False</td>\n",
       "    </tr>\n",
       "    <tr>\n",
       "      <th>13</th>\n",
       "      <td>P014</td>\n",
       "      <td>Toys</td>\n",
       "      <td>6</td>\n",
       "      <td>197</td>\n",
       "      <td>False</td>\n",
       "    </tr>\n",
       "    <tr>\n",
       "      <th>14</th>\n",
       "      <td>P015</td>\n",
       "      <td>Electronics</td>\n",
       "      <td>10</td>\n",
       "      <td>24</td>\n",
       "      <td>True</td>\n",
       "    </tr>\n",
       "    <tr>\n",
       "      <th>15</th>\n",
       "      <td>P016</td>\n",
       "      <td>Toys</td>\n",
       "      <td>10</td>\n",
       "      <td>199</td>\n",
       "      <td>False</td>\n",
       "    </tr>\n",
       "    <tr>\n",
       "      <th>16</th>\n",
       "      <td>P017</td>\n",
       "      <td>Home</td>\n",
       "      <td>5</td>\n",
       "      <td>199</td>\n",
       "      <td>False</td>\n",
       "    </tr>\n",
       "    <tr>\n",
       "      <th>17</th>\n",
       "      <td>P018</td>\n",
       "      <td>Home</td>\n",
       "      <td>8</td>\n",
       "      <td>184</td>\n",
       "      <td>False</td>\n",
       "    </tr>\n",
       "    <tr>\n",
       "      <th>18</th>\n",
       "      <td>P019</td>\n",
       "      <td>Home</td>\n",
       "      <td>7</td>\n",
       "      <td>199</td>\n",
       "      <td>False</td>\n",
       "    </tr>\n",
       "    <tr>\n",
       "      <th>19</th>\n",
       "      <td>P020</td>\n",
       "      <td>Electronics</td>\n",
       "      <td>4</td>\n",
       "      <td>60</td>\n",
       "      <td>False</td>\n",
       "    </tr>\n",
       "  </tbody>\n",
       "</table>\n",
       "</div>"
      ],
      "text/plain": [
       "   product_id     category  supplier_lead_time_days  current_inventory  \\\n",
       "0        P001         Toys                        9                 97   \n",
       "1        P002       Beauty                        6                167   \n",
       "2        P003         Toys                       13                 47   \n",
       "3        P004         Toys                       10                139   \n",
       "4        P005  Electronics                        7                197   \n",
       "5        P006       Beauty                        9                 30   \n",
       "6        P007  Electronics                       12                170   \n",
       "7        P008       Beauty                        5                 67   \n",
       "8        P009       Beauty                        9                 31   \n",
       "9        P010  Electronics                       13                 98   \n",
       "10       P011  Electronics                       13                 58   \n",
       "11       P012       Beauty                       10                 68   \n",
       "12       P013         Home                        7                179   \n",
       "13       P014         Toys                        6                197   \n",
       "14       P015  Electronics                       10                 24   \n",
       "15       P016         Toys                       10                199   \n",
       "16       P017         Home                        5                199   \n",
       "17       P018         Home                        8                184   \n",
       "18       P019         Home                        7                199   \n",
       "19       P020  Electronics                        4                 60   \n",
       "\n",
       "    stockout?  \n",
       "0       False  \n",
       "1       False  \n",
       "2        True  \n",
       "3       False  \n",
       "4       False  \n",
       "5        True  \n",
       "6       False  \n",
       "7       False  \n",
       "8        True  \n",
       "9       False  \n",
       "10       True  \n",
       "11      False  \n",
       "12      False  \n",
       "13      False  \n",
       "14       True  \n",
       "15      False  \n",
       "16      False  \n",
       "17      False  \n",
       "18      False  \n",
       "19      False  "
      ]
     },
     "execution_count": 2446,
     "metadata": {},
     "output_type": "execute_result"
    }
   ],
   "source": [
    "avg_daily_sales = merged_data.groupby('product_id')['units_sold'].mean()\n",
    "days_left = product_df.set_index('product_id')['current_inventory']/avg_daily_sales\n",
    "lead_time = product_df.set_index('product_id')['supplier_lead_time_days']\n",
    "stockout = days_left < lead_time\n",
    "product_df['stockout?'] = stockout_flag.values\n",
    "product_df"
   ]
  },
  {
   "cell_type": "markdown",
   "id": "58a434d9-a73f-4688-97f1-a4c96c35bb60",
   "metadata": {},
   "source": [
    "Using each product's estimated daily sales, we want to see which products are at high risk of running out of stock. A product will be classified as high risk of stockout if their estimated time left in stock is shorter than the supplier lead time. "
   ]
  },
  {
   "cell_type": "markdown",
   "id": "a3cda780-cb0f-46bc-b8b3-911a7c30e68e",
   "metadata": {},
   "source": [
    "### Forecasting Demand for the Next 30 Days"
   ]
  },
  {
   "cell_type": "code",
   "execution_count": 2450,
   "id": "c37e5b9e-b7de-46c5-a382-98e72c681917",
   "metadata": {},
   "outputs": [],
   "source": [
    "X = merged_data.drop(columns=['units_sold', 'date','month'])\n",
    "y = merged_data['units_sold'] \n",
    "\n",
    "# One Hot Encoding\n",
    "X = pd.get_dummies(X, drop_first=True)\n",
    "\n",
    "# Loop through each product and forecast the next 30 days\n",
    "forecast_results = []\n",
    "model_accuracy = []\n",
    "\n",
    "\n",
    "for product_id in merged_data['product_id'].unique():\n",
    "    # Create a DF for each unique product_id and get columns up \n",
    "    product_data = merged_data[merged_data['product_id'] == product_id]\n",
    "    # Select the X and y of the specific product_id\n",
    "    X_product = X.loc[product_data.index]\n",
    "    y_product = y.loc[product_data.index] \n",
    "    \n",
    "    # Split data into training and test sets\n",
    "    X_train, X_test, y_train, y_test = train_test_split(X, y, test_size=0.2, random_state=42)\n",
    "\n",
    "    # Train Random Forest Model\n",
    "    rf_model = RandomForestRegressor()\n",
    "    rf_model.fit(X_train, y_train)\n",
    "\n",
    "    # Make Predictions\n",
    "    y_pred = rf_model.predict(X_test)\n",
    "    \n",
    "    # Calculate performance (MAE,MSE,Score (check by looking at the array of metrics later))\n",
    "    mae = mean_absolute_error(y_test, y_pred)\n",
    "    mse = mean_squared_error(y_test, y_pred)\n",
    "    score = rf_model.score(X_test,y_test)\n",
    "    model_accuracy.append([mae,mse,score])\n",
    "    \n",
    "    # Forecast the next 30 days for this product\n",
    "    forecast_sales = []\n",
    "    forecast_value = rf_model.predict(X_product).mean() #rf_model.predict(X_product) gives an array of predictions for each date in each product, so it's best to find mean of all the values\n",
    "    forecast_sales.append(forecast_value) \n",
    "    \n",
    "    # Store the forecast for this product\n",
    "    forecast_df = pd.DataFrame(forecast_sales, columns=['forecasted_sales'])\n",
    "    forecast_df['product_id'] = product_id\n",
    "    forecast_results.append(forecast_df) \n",
    "\n",
    "# Concatenate all the product forecasts into one DF\n",
    "all_forecasts_df = pd.concat(forecast_results) \n",
    "all_forecasts_df = all_forecasts_df.groupby(['product_id'])['forecasted_sales'].sum()\n",
    "product_df['forecast_30_day'] = all_forecasts_df.values*30\n",
    "product_df['lead_time_demand'] = (lead_time*avg_daily_sales).values\n"
   ]
  },
  {
   "cell_type": "code",
   "execution_count": 2451,
   "id": "31c21072-652a-469b-b6ef-445ee2826962",
   "metadata": {},
   "outputs": [
    {
     "data": {
      "text/html": [
       "<div>\n",
       "<style scoped>\n",
       "    .dataframe tbody tr th:only-of-type {\n",
       "        vertical-align: middle;\n",
       "    }\n",
       "\n",
       "    .dataframe tbody tr th {\n",
       "        vertical-align: top;\n",
       "    }\n",
       "\n",
       "    .dataframe thead th {\n",
       "        text-align: right;\n",
       "    }\n",
       "</style>\n",
       "<table border=\"1\" class=\"dataframe\">\n",
       "  <thead>\n",
       "    <tr style=\"text-align: right;\">\n",
       "      <th></th>\n",
       "      <th>product_id</th>\n",
       "      <th>category</th>\n",
       "      <th>supplier_lead_time_days</th>\n",
       "      <th>current_inventory</th>\n",
       "      <th>stockout?</th>\n",
       "      <th>forecast_30_day</th>\n",
       "      <th>lead_time_demand</th>\n",
       "      <th>reorder_qty</th>\n",
       "    </tr>\n",
       "  </thead>\n",
       "  <tbody>\n",
       "    <tr>\n",
       "      <th>0</th>\n",
       "      <td>P001</td>\n",
       "      <td>Toys</td>\n",
       "      <td>9</td>\n",
       "      <td>97</td>\n",
       "      <td>False</td>\n",
       "      <td>135.031319</td>\n",
       "      <td>40.549451</td>\n",
       "      <td>79.0</td>\n",
       "    </tr>\n",
       "    <tr>\n",
       "      <th>1</th>\n",
       "      <td>P002</td>\n",
       "      <td>Beauty</td>\n",
       "      <td>6</td>\n",
       "      <td>167</td>\n",
       "      <td>False</td>\n",
       "      <td>139.190110</td>\n",
       "      <td>27.923077</td>\n",
       "      <td>1.0</td>\n",
       "    </tr>\n",
       "    <tr>\n",
       "      <th>2</th>\n",
       "      <td>P003</td>\n",
       "      <td>Toys</td>\n",
       "      <td>13</td>\n",
       "      <td>47</td>\n",
       "      <td>True</td>\n",
       "      <td>139.994505</td>\n",
       "      <td>60.857143</td>\n",
       "      <td>154.0</td>\n",
       "    </tr>\n",
       "    <tr>\n",
       "      <th>3</th>\n",
       "      <td>P004</td>\n",
       "      <td>Toys</td>\n",
       "      <td>10</td>\n",
       "      <td>139</td>\n",
       "      <td>False</td>\n",
       "      <td>140.850000</td>\n",
       "      <td>47.197802</td>\n",
       "      <td>50.0</td>\n",
       "    </tr>\n",
       "    <tr>\n",
       "      <th>4</th>\n",
       "      <td>P005</td>\n",
       "      <td>Electronics</td>\n",
       "      <td>7</td>\n",
       "      <td>197</td>\n",
       "      <td>False</td>\n",
       "      <td>131.881319</td>\n",
       "      <td>30.807692</td>\n",
       "      <td>-34.0</td>\n",
       "    </tr>\n",
       "    <tr>\n",
       "      <th>5</th>\n",
       "      <td>P006</td>\n",
       "      <td>Beauty</td>\n",
       "      <td>9</td>\n",
       "      <td>30</td>\n",
       "      <td>True</td>\n",
       "      <td>132.947802</td>\n",
       "      <td>40.005495</td>\n",
       "      <td>143.0</td>\n",
       "    </tr>\n",
       "    <tr>\n",
       "      <th>6</th>\n",
       "      <td>P007</td>\n",
       "      <td>Electronics</td>\n",
       "      <td>12</td>\n",
       "      <td>170</td>\n",
       "      <td>False</td>\n",
       "      <td>139.925275</td>\n",
       "      <td>56.109890</td>\n",
       "      <td>27.0</td>\n",
       "    </tr>\n",
       "    <tr>\n",
       "      <th>7</th>\n",
       "      <td>P008</td>\n",
       "      <td>Beauty</td>\n",
       "      <td>5</td>\n",
       "      <td>67</td>\n",
       "      <td>False</td>\n",
       "      <td>125.164286</td>\n",
       "      <td>20.934066</td>\n",
       "      <td>80.0</td>\n",
       "    </tr>\n",
       "    <tr>\n",
       "      <th>8</th>\n",
       "      <td>P009</td>\n",
       "      <td>Beauty</td>\n",
       "      <td>9</td>\n",
       "      <td>31</td>\n",
       "      <td>True</td>\n",
       "      <td>136.284066</td>\n",
       "      <td>40.945055</td>\n",
       "      <td>147.0</td>\n",
       "    </tr>\n",
       "    <tr>\n",
       "      <th>9</th>\n",
       "      <td>P010</td>\n",
       "      <td>Electronics</td>\n",
       "      <td>13</td>\n",
       "      <td>98</td>\n",
       "      <td>False</td>\n",
       "      <td>154.232967</td>\n",
       "      <td>66.928571</td>\n",
       "      <td>124.0</td>\n",
       "    </tr>\n",
       "    <tr>\n",
       "      <th>10</th>\n",
       "      <td>P011</td>\n",
       "      <td>Electronics</td>\n",
       "      <td>13</td>\n",
       "      <td>58</td>\n",
       "      <td>True</td>\n",
       "      <td>137.647253</td>\n",
       "      <td>59.785714</td>\n",
       "      <td>140.0</td>\n",
       "    </tr>\n",
       "    <tr>\n",
       "      <th>11</th>\n",
       "      <td>P012</td>\n",
       "      <td>Beauty</td>\n",
       "      <td>10</td>\n",
       "      <td>68</td>\n",
       "      <td>False</td>\n",
       "      <td>145.442308</td>\n",
       "      <td>48.626374</td>\n",
       "      <td>127.0</td>\n",
       "    </tr>\n",
       "    <tr>\n",
       "      <th>12</th>\n",
       "      <td>P013</td>\n",
       "      <td>Home</td>\n",
       "      <td>7</td>\n",
       "      <td>179</td>\n",
       "      <td>False</td>\n",
       "      <td>137.779121</td>\n",
       "      <td>32.153846</td>\n",
       "      <td>-9.0</td>\n",
       "    </tr>\n",
       "    <tr>\n",
       "      <th>13</th>\n",
       "      <td>P014</td>\n",
       "      <td>Toys</td>\n",
       "      <td>6</td>\n",
       "      <td>197</td>\n",
       "      <td>False</td>\n",
       "      <td>132.778022</td>\n",
       "      <td>26.571429</td>\n",
       "      <td>-37.0</td>\n",
       "    </tr>\n",
       "    <tr>\n",
       "      <th>14</th>\n",
       "      <td>P015</td>\n",
       "      <td>Electronics</td>\n",
       "      <td>10</td>\n",
       "      <td>24</td>\n",
       "      <td>True</td>\n",
       "      <td>142.768681</td>\n",
       "      <td>47.692308</td>\n",
       "      <td>167.0</td>\n",
       "    </tr>\n",
       "    <tr>\n",
       "      <th>15</th>\n",
       "      <td>P016</td>\n",
       "      <td>Toys</td>\n",
       "      <td>10</td>\n",
       "      <td>199</td>\n",
       "      <td>False</td>\n",
       "      <td>139.834615</td>\n",
       "      <td>46.758242</td>\n",
       "      <td>-12.0</td>\n",
       "    </tr>\n",
       "    <tr>\n",
       "      <th>16</th>\n",
       "      <td>P017</td>\n",
       "      <td>Home</td>\n",
       "      <td>5</td>\n",
       "      <td>199</td>\n",
       "      <td>False</td>\n",
       "      <td>141.171429</td>\n",
       "      <td>23.598901</td>\n",
       "      <td>-34.0</td>\n",
       "    </tr>\n",
       "    <tr>\n",
       "      <th>17</th>\n",
       "      <td>P018</td>\n",
       "      <td>Home</td>\n",
       "      <td>8</td>\n",
       "      <td>184</td>\n",
       "      <td>False</td>\n",
       "      <td>137.240110</td>\n",
       "      <td>36.659341</td>\n",
       "      <td>-10.0</td>\n",
       "    </tr>\n",
       "    <tr>\n",
       "      <th>18</th>\n",
       "      <td>P019</td>\n",
       "      <td>Home</td>\n",
       "      <td>7</td>\n",
       "      <td>199</td>\n",
       "      <td>False</td>\n",
       "      <td>132.382418</td>\n",
       "      <td>31.000000</td>\n",
       "      <td>-35.0</td>\n",
       "    </tr>\n",
       "    <tr>\n",
       "      <th>19</th>\n",
       "      <td>P020</td>\n",
       "      <td>Electronics</td>\n",
       "      <td>4</td>\n",
       "      <td>60</td>\n",
       "      <td>False</td>\n",
       "      <td>135.728571</td>\n",
       "      <td>18.131868</td>\n",
       "      <td>94.0</td>\n",
       "    </tr>\n",
       "  </tbody>\n",
       "</table>\n",
       "</div>"
      ],
      "text/plain": [
       "   product_id     category  supplier_lead_time_days  current_inventory  \\\n",
       "0        P001         Toys                        9                 97   \n",
       "1        P002       Beauty                        6                167   \n",
       "2        P003         Toys                       13                 47   \n",
       "3        P004         Toys                       10                139   \n",
       "4        P005  Electronics                        7                197   \n",
       "5        P006       Beauty                        9                 30   \n",
       "6        P007  Electronics                       12                170   \n",
       "7        P008       Beauty                        5                 67   \n",
       "8        P009       Beauty                        9                 31   \n",
       "9        P010  Electronics                       13                 98   \n",
       "10       P011  Electronics                       13                 58   \n",
       "11       P012       Beauty                       10                 68   \n",
       "12       P013         Home                        7                179   \n",
       "13       P014         Toys                        6                197   \n",
       "14       P015  Electronics                       10                 24   \n",
       "15       P016         Toys                       10                199   \n",
       "16       P017         Home                        5                199   \n",
       "17       P018         Home                        8                184   \n",
       "18       P019         Home                        7                199   \n",
       "19       P020  Electronics                        4                 60   \n",
       "\n",
       "    stockout?  forecast_30_day  lead_time_demand  reorder_qty  \n",
       "0       False       135.031319         40.549451         79.0  \n",
       "1       False       139.190110         27.923077          1.0  \n",
       "2        True       139.994505         60.857143        154.0  \n",
       "3       False       140.850000         47.197802         50.0  \n",
       "4       False       131.881319         30.807692        -34.0  \n",
       "5        True       132.947802         40.005495        143.0  \n",
       "6       False       139.925275         56.109890         27.0  \n",
       "7       False       125.164286         20.934066         80.0  \n",
       "8        True       136.284066         40.945055        147.0  \n",
       "9       False       154.232967         66.928571        124.0  \n",
       "10       True       137.647253         59.785714        140.0  \n",
       "11      False       145.442308         48.626374        127.0  \n",
       "12      False       137.779121         32.153846         -9.0  \n",
       "13      False       132.778022         26.571429        -37.0  \n",
       "14       True       142.768681         47.692308        167.0  \n",
       "15      False       139.834615         46.758242        -12.0  \n",
       "16      False       141.171429         23.598901        -34.0  \n",
       "17      False       137.240110         36.659341        -10.0  \n",
       "18      False       132.382418         31.000000        -35.0  \n",
       "19      False       135.728571         18.131868         94.0  "
      ]
     },
     "execution_count": 2451,
     "metadata": {},
     "output_type": "execute_result"
    }
   ],
   "source": [
    "#Calculate reorder quantity needed for stockout values by adding lead time demand and forecasted 30 day performance and subtracting current inventory\n",
    "reorder_qty = (product_df['lead_time_demand'].values + product_df['forecast_30_day'].values - product_df['current_inventory'].values)\n",
    "product_df['reorder_qty'] = np.ceil(reorder_qty)\n",
    "product_df"
   ]
  },
  {
   "cell_type": "code",
   "execution_count": 2456,
   "id": "d8a9d5e0-aa29-43b7-a65c-0f9b7089e0e9",
   "metadata": {},
   "outputs": [
    {
     "data": {
      "text/html": [
       "<div>\n",
       "<style scoped>\n",
       "    .dataframe tbody tr th:only-of-type {\n",
       "        vertical-align: middle;\n",
       "    }\n",
       "\n",
       "    .dataframe tbody tr th {\n",
       "        vertical-align: top;\n",
       "    }\n",
       "\n",
       "    .dataframe thead th {\n",
       "        text-align: right;\n",
       "    }\n",
       "</style>\n",
       "<table border=\"1\" class=\"dataframe\">\n",
       "  <thead>\n",
       "    <tr style=\"text-align: right;\">\n",
       "      <th></th>\n",
       "      <th>product_id</th>\n",
       "      <th>category</th>\n",
       "      <th>supplier_lead_time_days</th>\n",
       "      <th>current_inventory</th>\n",
       "      <th>stockout?</th>\n",
       "      <th>forecast_30_day</th>\n",
       "      <th>lead_time_demand</th>\n",
       "      <th>reorder_qty</th>\n",
       "    </tr>\n",
       "  </thead>\n",
       "  <tbody>\n",
       "    <tr>\n",
       "      <th>0</th>\n",
       "      <td>P001</td>\n",
       "      <td>Toys</td>\n",
       "      <td>9</td>\n",
       "      <td>97</td>\n",
       "      <td>False</td>\n",
       "      <td>135.031319</td>\n",
       "      <td>40.549451</td>\n",
       "      <td>0.0</td>\n",
       "    </tr>\n",
       "    <tr>\n",
       "      <th>1</th>\n",
       "      <td>P002</td>\n",
       "      <td>Beauty</td>\n",
       "      <td>6</td>\n",
       "      <td>167</td>\n",
       "      <td>False</td>\n",
       "      <td>139.190110</td>\n",
       "      <td>27.923077</td>\n",
       "      <td>0.0</td>\n",
       "    </tr>\n",
       "    <tr>\n",
       "      <th>2</th>\n",
       "      <td>P003</td>\n",
       "      <td>Toys</td>\n",
       "      <td>13</td>\n",
       "      <td>47</td>\n",
       "      <td>True</td>\n",
       "      <td>139.994505</td>\n",
       "      <td>60.857143</td>\n",
       "      <td>154.0</td>\n",
       "    </tr>\n",
       "    <tr>\n",
       "      <th>3</th>\n",
       "      <td>P004</td>\n",
       "      <td>Toys</td>\n",
       "      <td>10</td>\n",
       "      <td>139</td>\n",
       "      <td>False</td>\n",
       "      <td>140.850000</td>\n",
       "      <td>47.197802</td>\n",
       "      <td>0.0</td>\n",
       "    </tr>\n",
       "    <tr>\n",
       "      <th>4</th>\n",
       "      <td>P005</td>\n",
       "      <td>Electronics</td>\n",
       "      <td>7</td>\n",
       "      <td>197</td>\n",
       "      <td>False</td>\n",
       "      <td>131.881319</td>\n",
       "      <td>30.807692</td>\n",
       "      <td>0.0</td>\n",
       "    </tr>\n",
       "    <tr>\n",
       "      <th>5</th>\n",
       "      <td>P006</td>\n",
       "      <td>Beauty</td>\n",
       "      <td>9</td>\n",
       "      <td>30</td>\n",
       "      <td>True</td>\n",
       "      <td>132.947802</td>\n",
       "      <td>40.005495</td>\n",
       "      <td>143.0</td>\n",
       "    </tr>\n",
       "    <tr>\n",
       "      <th>6</th>\n",
       "      <td>P007</td>\n",
       "      <td>Electronics</td>\n",
       "      <td>12</td>\n",
       "      <td>170</td>\n",
       "      <td>False</td>\n",
       "      <td>139.925275</td>\n",
       "      <td>56.109890</td>\n",
       "      <td>0.0</td>\n",
       "    </tr>\n",
       "    <tr>\n",
       "      <th>7</th>\n",
       "      <td>P008</td>\n",
       "      <td>Beauty</td>\n",
       "      <td>5</td>\n",
       "      <td>67</td>\n",
       "      <td>False</td>\n",
       "      <td>125.164286</td>\n",
       "      <td>20.934066</td>\n",
       "      <td>40.0</td>\n",
       "    </tr>\n",
       "    <tr>\n",
       "      <th>8</th>\n",
       "      <td>P009</td>\n",
       "      <td>Beauty</td>\n",
       "      <td>9</td>\n",
       "      <td>31</td>\n",
       "      <td>True</td>\n",
       "      <td>136.284066</td>\n",
       "      <td>40.945055</td>\n",
       "      <td>147.0</td>\n",
       "    </tr>\n",
       "    <tr>\n",
       "      <th>9</th>\n",
       "      <td>P010</td>\n",
       "      <td>Electronics</td>\n",
       "      <td>13</td>\n",
       "      <td>98</td>\n",
       "      <td>False</td>\n",
       "      <td>154.232967</td>\n",
       "      <td>66.928571</td>\n",
       "      <td>0.0</td>\n",
       "    </tr>\n",
       "    <tr>\n",
       "      <th>10</th>\n",
       "      <td>P011</td>\n",
       "      <td>Electronics</td>\n",
       "      <td>13</td>\n",
       "      <td>58</td>\n",
       "      <td>True</td>\n",
       "      <td>137.647253</td>\n",
       "      <td>59.785714</td>\n",
       "      <td>140.0</td>\n",
       "    </tr>\n",
       "    <tr>\n",
       "      <th>11</th>\n",
       "      <td>P012</td>\n",
       "      <td>Beauty</td>\n",
       "      <td>10</td>\n",
       "      <td>68</td>\n",
       "      <td>False</td>\n",
       "      <td>145.442308</td>\n",
       "      <td>48.626374</td>\n",
       "      <td>31.0</td>\n",
       "    </tr>\n",
       "    <tr>\n",
       "      <th>12</th>\n",
       "      <td>P013</td>\n",
       "      <td>Home</td>\n",
       "      <td>7</td>\n",
       "      <td>179</td>\n",
       "      <td>False</td>\n",
       "      <td>137.779121</td>\n",
       "      <td>32.153846</td>\n",
       "      <td>0.0</td>\n",
       "    </tr>\n",
       "    <tr>\n",
       "      <th>13</th>\n",
       "      <td>P014</td>\n",
       "      <td>Toys</td>\n",
       "      <td>6</td>\n",
       "      <td>197</td>\n",
       "      <td>False</td>\n",
       "      <td>132.778022</td>\n",
       "      <td>26.571429</td>\n",
       "      <td>0.0</td>\n",
       "    </tr>\n",
       "    <tr>\n",
       "      <th>14</th>\n",
       "      <td>P015</td>\n",
       "      <td>Electronics</td>\n",
       "      <td>10</td>\n",
       "      <td>24</td>\n",
       "      <td>True</td>\n",
       "      <td>142.768681</td>\n",
       "      <td>47.692308</td>\n",
       "      <td>167.0</td>\n",
       "    </tr>\n",
       "    <tr>\n",
       "      <th>15</th>\n",
       "      <td>P016</td>\n",
       "      <td>Toys</td>\n",
       "      <td>10</td>\n",
       "      <td>199</td>\n",
       "      <td>False</td>\n",
       "      <td>139.834615</td>\n",
       "      <td>46.758242</td>\n",
       "      <td>0.0</td>\n",
       "    </tr>\n",
       "    <tr>\n",
       "      <th>16</th>\n",
       "      <td>P017</td>\n",
       "      <td>Home</td>\n",
       "      <td>5</td>\n",
       "      <td>199</td>\n",
       "      <td>False</td>\n",
       "      <td>141.171429</td>\n",
       "      <td>23.598901</td>\n",
       "      <td>0.0</td>\n",
       "    </tr>\n",
       "    <tr>\n",
       "      <th>17</th>\n",
       "      <td>P018</td>\n",
       "      <td>Home</td>\n",
       "      <td>8</td>\n",
       "      <td>184</td>\n",
       "      <td>False</td>\n",
       "      <td>137.240110</td>\n",
       "      <td>36.659341</td>\n",
       "      <td>0.0</td>\n",
       "    </tr>\n",
       "    <tr>\n",
       "      <th>18</th>\n",
       "      <td>P019</td>\n",
       "      <td>Home</td>\n",
       "      <td>7</td>\n",
       "      <td>199</td>\n",
       "      <td>False</td>\n",
       "      <td>132.382418</td>\n",
       "      <td>31.000000</td>\n",
       "      <td>0.0</td>\n",
       "    </tr>\n",
       "    <tr>\n",
       "      <th>19</th>\n",
       "      <td>P020</td>\n",
       "      <td>Electronics</td>\n",
       "      <td>4</td>\n",
       "      <td>60</td>\n",
       "      <td>False</td>\n",
       "      <td>135.728571</td>\n",
       "      <td>18.131868</td>\n",
       "      <td>58.0</td>\n",
       "    </tr>\n",
       "  </tbody>\n",
       "</table>\n",
       "</div>"
      ],
      "text/plain": [
       "   product_id     category  supplier_lead_time_days  current_inventory  \\\n",
       "0        P001         Toys                        9                 97   \n",
       "1        P002       Beauty                        6                167   \n",
       "2        P003         Toys                       13                 47   \n",
       "3        P004         Toys                       10                139   \n",
       "4        P005  Electronics                        7                197   \n",
       "5        P006       Beauty                        9                 30   \n",
       "6        P007  Electronics                       12                170   \n",
       "7        P008       Beauty                        5                 67   \n",
       "8        P009       Beauty                        9                 31   \n",
       "9        P010  Electronics                       13                 98   \n",
       "10       P011  Electronics                       13                 58   \n",
       "11       P012       Beauty                       10                 68   \n",
       "12       P013         Home                        7                179   \n",
       "13       P014         Toys                        6                197   \n",
       "14       P015  Electronics                       10                 24   \n",
       "15       P016         Toys                       10                199   \n",
       "16       P017         Home                        5                199   \n",
       "17       P018         Home                        8                184   \n",
       "18       P019         Home                        7                199   \n",
       "19       P020  Electronics                        4                 60   \n",
       "\n",
       "    stockout?  forecast_30_day  lead_time_demand  reorder_qty  \n",
       "0       False       135.031319         40.549451          0.0  \n",
       "1       False       139.190110         27.923077          0.0  \n",
       "2        True       139.994505         60.857143        154.0  \n",
       "3       False       140.850000         47.197802          0.0  \n",
       "4       False       131.881319         30.807692          0.0  \n",
       "5        True       132.947802         40.005495        143.0  \n",
       "6       False       139.925275         56.109890          0.0  \n",
       "7       False       125.164286         20.934066         40.0  \n",
       "8        True       136.284066         40.945055        147.0  \n",
       "9       False       154.232967         66.928571          0.0  \n",
       "10       True       137.647253         59.785714        140.0  \n",
       "11      False       145.442308         48.626374         31.0  \n",
       "12      False       137.779121         32.153846          0.0  \n",
       "13      False       132.778022         26.571429          0.0  \n",
       "14       True       142.768681         47.692308        167.0  \n",
       "15      False       139.834615         46.758242          0.0  \n",
       "16      False       141.171429         23.598901          0.0  \n",
       "17      False       137.240110         36.659341          0.0  \n",
       "18      False       132.382418         31.000000          0.0  \n",
       "19      False       135.728571         18.131868         58.0  "
      ]
     },
     "execution_count": 2456,
     "metadata": {},
     "output_type": "execute_result"
    }
   ],
   "source": [
    "#If the product is not at risk of being out of stock, we don't have to worry about covering lead time demand\n",
    "product_df['reorder_qty'] = product_df.apply(\n",
    "    lambda df: np.ceil(df['reorder_qty'] - df['lead_time_demand']) if not df['stockout?'] else df['reorder_qty'], axis=1)\n",
    "product_df['reorder_qty'] = product_df['reorder_qty'].clip(lower=0)\n",
    "product_df"
   ]
  },
  {
   "cell_type": "markdown",
   "id": "a9dd6de1-61af-4d16-b7c5-4d14c4ff209a",
   "metadata": {},
   "source": [
    "The reorder quantity makes sense as the products that are at risk of stockout should be the highest in terms of reorder quantity. There are also products that should be reordered even if they won't be out of stock."
   ]
  },
  {
   "cell_type": "markdown",
   "id": "6067cb4c-ebd9-4f63-bb24-ef3ce2b63932",
   "metadata": {},
   "source": [
    "## Predicted Products in Demand"
   ]
  },
  {
   "cell_type": "code",
   "execution_count": 2460,
   "id": "b0384cf4-3547-455d-9cca-13b55ffdf339",
   "metadata": {},
   "outputs": [
    {
     "name": "stdout",
     "output_type": "stream",
     "text": [
      "Mean of each metric: [0.06273077 0.02434904 0.99689712]\n"
     ]
    }
   ],
   "source": [
    "#Check the mean accuracy of each model (MAE, MSE, Score)\n",
    "mean_accuracies = np.mean(model_accuracy, axis=0)\n",
    "print(\"Mean of each metric:\", mean_accuracies)"
   ]
  },
  {
   "cell_type": "markdown",
   "id": "cd91b8d6-b656-447d-9379-20e874304e58",
   "metadata": {},
   "source": [
    "For a good model, we want our mean absolute error and mean square error to be close to 0 and our model score to be near 100. For these means, we can see that our model does a good job of predicting the reorder quantity. "
   ]
  },
  {
   "cell_type": "code",
   "execution_count": 2463,
   "id": "a7872059-0167-442d-b584-99ef284c1498",
   "metadata": {},
   "outputs": [
    {
     "data": {
      "text/plain": [
       "Text(0.5, 1.0, 'Urgency of Reorder by Product ID')"
      ]
     },
     "execution_count": 2463,
     "metadata": {},
     "output_type": "execute_result"
    },
    {
     "data": {
      "image/png": "[encoded data removed]",
      "text/plain": [
       "<Figure size 1200x800 with 2 Axes>"
      ]
     },
     "metadata": {},
     "output_type": "display_data"
    }
   ],
   "source": [
    "# Pivot the data to create a heatmap (product_id vs reorder_qty)\n",
    "plt.figure(figsize=(12, 8))\n",
    "reorder_urgency_by_product = product_df.pivot_table(values='reorder_qty', index='product_id')\n",
    "sns.heatmap(reorder_urgency_by_product, annot=True, cmap='YlOrRd', fmt='g',linewidths=0.1)\n",
    "plt.title(\"Urgency of Reorder by Product ID\")"
   ]
  },
  {
   "cell_type": "code",
   "execution_count": 2465,
   "id": "e616d7d3-796e-4dec-a56c-2db648899d14",
   "metadata": {},
   "outputs": [
    {
     "data": {
      "application/vnd.plotly.v1+json": {
       "config": {
        "plotlyServerURL": "https://plot.ly"
       },
       "data": [
        {
         "branchvalues": "total",
         "customdata": [
          [
           false
          ],
          [
           false
          ],
          [
           false
          ],
          [
           false
          ],
          [
           false
          ],
          [
           false
          ],
          [
           false
          ],
          [
           false
          ],
          [
           false
          ],
          [
           false
          ],
          [
           false
          ],
          [
           false
          ],
          [
           false
          ],
          [
           false
          ],
          [
           false
          ],
          [
           true
          ],
          [
           true
          ],
          [
           true
          ],
          [
           true
          ],
          [
           true
          ],
          [
           "(?)"
          ],
          [
           "(?)"
          ],
          [
           false
          ],
          [
           "(?)"
          ]
         ],
         "domain": {
          "x": [
           0,
           1
          ],
          "y": [
           0,
           1
          ]
         },
         "hovertemplate": "labels=%{label}<br>reorder_qty=%{value}<br>parent=%{parent}<br>id=%{id}<br>stockout?=%{customdata[0]}<extra></extra>",
         "ids": [
          "Toys/P001",
          "Home/P018",
          "Home/P017",
          "Toys/P016",
          "Toys/P014",
          "Home/P013",
          "Beauty/P012",
          "Home/P019",
          "Electronics/P010",
          "Beauty/P008",
          "Electronics/P007",
          "Electronics/P005",
          "Toys/P004",
          "Beauty/P002",
          "Electronics/P020",
          "Electronics/P011",
          "Beauty/P006",
          "Electronics/P015",
          "Toys/P003",
          "Beauty/P009",
          "Beauty",
          "Electronics",
          "Home",
          "Toys"
         ],
         "labels": [
          "P001",
          "P018",
          "P017",
          "P016",
          "P014",
          "P013",
          "P012",
          "P019",
          "P010",
          "P008",
          "P007",
          "P005",
          "P004",
          "P002",
          "P020",
          "P011",
          "P006",
          "P015",
          "P003",
          "P009",
          "Beauty",
          "Electronics",
          "Home",
          "Toys"
         ],
         "marker": {
          "colors": [
           "green",
           "green",
           "green",
           "green",
           "green",
           "green",
           "green",
           "green",
           "green",
           "green",
           "green",
           "green",
           "green",
           "green",
           "green",
           "red",
           "red",
           "red",
           "red",
           "red",
           "#00cc96",
           "#00cc96",
           "green",
           "#00cc96"
          ]
         },
         "name": "",
         "parents": [
          "Toys",
          "Home",
          "Home",
          "Toys",
          "Toys",
          "Home",
          "Beauty",
          "Home",
          "Electronics",
          "Beauty",
          "Electronics",
          "Electronics",
          "Toys",
          "Beauty",
          "Electronics",
          "Electronics",
          "Beauty",
          "Electronics",
          "Toys",
          "Beauty",
          "",
          "",
          "",
          ""
         ],
         "type": "treemap",
         "values": [
          0,
          0,
          0,
          0,
          0,
          0,
          31,
          0,
          0,
          40,
          0,
          0,
          0,
          0,
          58,
          140,
          143,
          167,
          154,
          147,
          361,
          365,
          0,
          154
         ]
        }
       ],
       "layout": {
        "autosize": true,
        "legend": {
         "tracegroupgap": 0
        },
        "template": {
         "data": {
          "bar": [
           {
            "error_x": {
             "color": "#2a3f5f"
            },
            "error_y": {
             "color": "#2a3f5f"
            },
            "marker": {
             "line": {
              "color": "#E5ECF6",
              "width": 0.5
             },
             "pattern": {
              "fillmode": "overlay",
              "size": 10,
              "solidity": 0.2
             }
            },
            "type": "bar"
           }
          ],
          "barpolar": [
           {
            "marker": {
             "line": {
              "color": "#E5ECF6",
              "width": 0.5
             },
             "pattern": {
              "fillmode": "overlay",
              "size": 10,
              "solidity": 0.2
             }
            },
            "type": "barpolar"
           }
          ],
          "carpet": [
           {
            "aaxis": {
             "endlinecolor": "#2a3f5f",
             "gridcolor": "white",
             "linecolor": "white",
             "minorgridcolor": "white",
             "startlinecolor": "#2a3f5f"
            },
            "baxis": {
             "endlinecolor": "#2a3f5f",
             "gridcolor": "white",
             "linecolor": "white",
             "minorgridcolor": "white",
             "startlinecolor": "#2a3f5f"
            },
            "type": "carpet"
           }
          ],
          "choropleth": [
           {
            "colorbar": {
             "outlinewidth": 0,
             "ticks": ""
            },
            "type": "choropleth"
           }
          ],
          "contour": [
           {
            "colorbar": {
             "outlinewidth": 0,
             "ticks": ""
            },
            "colorscale": [
             [
              0,
              "#0d0887"
             ],
             [
              0.1111111111111111,
              "#46039f"
             ],
             [
              0.2222222222222222,
              "#7201a8"
             ],
             [
              0.3333333333333333,
              "#9c179e"
             ],
             [
              0.4444444444444444,
              "#bd3786"
             ],
             [
              0.5555555555555556,
              "#d8576b"
             ],
             [
              0.6666666666666666,
              "#ed7953"
             ],
             [
              0.7777777777777778,
              "#fb9f3a"
             ],
             [
              0.8888888888888888,
              "#fdca26"
             ],
             [
              1,
              "#f0f921"
             ]
            ],
            "type": "contour"
           }
          ],
          "contourcarpet": [
           {
            "colorbar": {
             "outlinewidth": 0,
             "ticks": ""
            },
            "type": "contourcarpet"
           }
          ],
          "heatmap": [
           {
            "colorbar": {
             "outlinewidth": 0,
             "ticks": ""
            },
            "colorscale": [
             [
              0,
              "#0d0887"
             ],
             [
              0.1111111111111111,
              "#46039f"
             ],
             [
              0.2222222222222222,
              "#7201a8"
             ],
             [
              0.3333333333333333,
              "#9c179e"
             ],
             [
              0.4444444444444444,
              "#bd3786"
             ],
             [
              0.5555555555555556,
              "#d8576b"
             ],
             [
              0.6666666666666666,
              "#ed7953"
             ],
             [
              0.7777777777777778,
              "#fb9f3a"
             ],
             [
              0.8888888888888888,
              "#fdca26"
             ],
             [
              1,
              "#f0f921"
             ]
            ],
            "type": "heatmap"
           }
          ],
          "heatmapgl": [
           {
            "colorbar": {
             "outlinewidth": 0,
             "ticks": ""
            },
            "colorscale": [
             [
              0,
              "#0d0887"
             ],
             [
              0.1111111111111111,
              "#46039f"
             ],
             [
              0.2222222222222222,
              "#7201a8"
             ],
             [
              0.3333333333333333,
              "#9c179e"
             ],
             [
              0.4444444444444444,
              "#bd3786"
             ],
             [
              0.5555555555555556,
              "#d8576b"
             ],
             [
              0.6666666666666666,
              "#ed7953"
             ],
             [
              0.7777777777777778,
              "#fb9f3a"
             ],
             [
              0.8888888888888888,
              "#fdca26"
             ],
             [
              1,
              "#f0f921"
             ]
            ],
            "type": "heatmapgl"
           }
          ],
          "histogram": [
           {
            "marker": {
             "pattern": {
              "fillmode": "overlay",
              "size": 10,
              "solidity": 0.2
             }
            },
            "type": "histogram"
           }
          ],
          "histogram2d": [
           {
            "colorbar": {
             "outlinewidth": 0,
             "ticks": ""
            },
            "colorscale": [
             [
              0,
              "#0d0887"
             ],
             [
              0.1111111111111111,
              "#46039f"
             ],
             [
              0.2222222222222222,
              "#7201a8"
             ],
             [
              0.3333333333333333,
              "#9c179e"
             ],
             [
              0.4444444444444444,
              "#bd3786"
             ],
             [
              0.5555555555555556,
              "#d8576b"
             ],
             [
              0.6666666666666666,
              "#ed7953"
             ],
             [
              0.7777777777777778,
              "#fb9f3a"
             ],
             [
              0.8888888888888888,
              "#fdca26"
             ],
             [
              1,
              "#f0f921"
             ]
            ],
            "type": "histogram2d"
           }
          ],
          "histogram2dcontour": [
           {
            "colorbar": {
             "outlinewidth": 0,
             "ticks": ""
            },
            "colorscale": [
             [
              0,
              "#0d0887"
             ],
             [
              0.1111111111111111,
              "#46039f"
             ],
             [
              0.2222222222222222,
              "#7201a8"
             ],
             [
              0.3333333333333333,
              "#9c179e"
             ],
             [
              0.4444444444444444,
              "#bd3786"
             ],
             [
              0.5555555555555556,
              "#d8576b"
             ],
             [
              0.6666666666666666,
              "#ed7953"
             ],
             [
              0.7777777777777778,
              "#fb9f3a"
             ],
             [
              0.8888888888888888,
              "#fdca26"
             ],
             [
              1,
              "#f0f921"
             ]
            ],
            "type": "histogram2dcontour"
           }
          ],
          "mesh3d": [
           {
            "colorbar": {
             "outlinewidth": 0,
             "ticks": ""
            },
            "type": "mesh3d"
           }
          ],
          "parcoords": [
           {
            "line": {
             "colorbar": {
              "outlinewidth": 0,
              "ticks": ""
             }
            },
            "type": "parcoords"
           }
          ],
          "pie": [
           {
            "automargin": true,
            "type": "pie"
           }
          ],
          "scatter": [
           {
            "fillpattern": {
             "fillmode": "overlay",
             "size": 10,
             "solidity": 0.2
            },
            "type": "scatter"
           }
          ],
          "scatter3d": [
           {
            "line": {
             "colorbar": {
              "outlinewidth": 0,
              "ticks": ""
             }
            },
            "marker": {
             "colorbar": {
              "outlinewidth": 0,
              "ticks": ""
             }
            },
            "type": "scatter3d"
           }
          ],
          "scattercarpet": [
           {
            "marker": {
             "colorbar": {
              "outlinewidth": 0,
              "ticks": ""
             }
            },
            "type": "scattercarpet"
           }
          ],
          "scattergeo": [
           {
            "marker": {
             "colorbar": {
              "outlinewidth": 0,
              "ticks": ""
             }
            },
            "type": "scattergeo"
           }
          ],
          "scattergl": [
           {
            "marker": {
             "colorbar": {
              "outlinewidth": 0,
              "ticks": ""
             }
            },
            "type": "scattergl"
           }
          ],
          "scattermapbox": [
           {
            "marker": {
             "colorbar": {
              "outlinewidth": 0,
              "ticks": ""
             }
            },
            "type": "scattermapbox"
           }
          ],
          "scatterpolar": [
           {
            "marker": {
             "colorbar": {
              "outlinewidth": 0,
              "ticks": ""
             }
            },
            "type": "scatterpolar"
           }
          ],
          "scatterpolargl": [
           {
            "marker": {
             "colorbar": {
              "outlinewidth": 0,
              "ticks": ""
             }
            },
            "type": "scatterpolargl"
           }
          ],
          "scatterternary": [
           {
            "marker": {
             "colorbar": {
              "outlinewidth": 0,
              "ticks": ""
             }
            },
            "type": "scatterternary"
           }
          ],
          "surface": [
           {
            "colorbar": {
             "outlinewidth": 0,
             "ticks": ""
            },
            "colorscale": [
             [
              0,
              "#0d0887"
             ],
             [
              0.1111111111111111,
              "#46039f"
             ],
             [
              0.2222222222222222,
              "#7201a8"
             ],
             [
              0.3333333333333333,
              "#9c179e"
             ],
             [
              0.4444444444444444,
              "#bd3786"
             ],
             [
              0.5555555555555556,
              "#d8576b"
             ],
             [
              0.6666666666666666,
              "#ed7953"
             ],
             [
              0.7777777777777778,
              "#fb9f3a"
             ],
             [
              0.8888888888888888,
              "#fdca26"
             ],
             [
              1,
              "#f0f921"
             ]
            ],
            "type": "surface"
           }
          ],
          "table": [
           {
            "cells": {
             "fill": {
              "color": "#EBF0F8"
             },
             "line": {
              "color": "white"
             }
            },
            "header": {
             "fill": {
              "color": "#C8D4E3"
             },
             "line": {
              "color": "white"
             }
            },
            "type": "table"
           }
          ]
         },
         "layout": {
          "annotationdefaults": {
           "arrowcolor": "#2a3f5f",
           "arrowhead": 0,
           "arrowwidth": 1
          },
          "autotypenumbers": "strict",
          "coloraxis": {
           "colorbar": {
            "outlinewidth": 0,
            "ticks": ""
           }
          },
          "colorscale": {
           "diverging": [
            [
             0,
             "#8e0152"
            ],
            [
             0.1,
             "#c51b7d"
            ],
            [
             0.2,
             "#de77ae"
            ],
            [
             0.3,
             "#f1b6da"
            ],
            [
             0.4,
             "#fde0ef"
            ],
            [
             0.5,
             "#f7f7f7"
            ],
            [
             0.6,
             "#e6f5d0"
            ],
            [
             0.7,
             "#b8e186"
            ],
            [
             0.8,
             "#7fbc41"
            ],
            [
             0.9,
             "#4d9221"
            ],
            [
             1,
             "#276419"
            ]
           ],
           "sequential": [
            [
             0,
             "#0d0887"
            ],
            [
             0.1111111111111111,
             "#46039f"
            ],
            [
             0.2222222222222222,
             "#7201a8"
            ],
            [
             0.3333333333333333,
             "#9c179e"
            ],
            [
             0.4444444444444444,
             "#bd3786"
            ],
            [
             0.5555555555555556,
             "#d8576b"
            ],
            [
             0.6666666666666666,
             "#ed7953"
            ],
            [
             0.7777777777777778,
             "#fb9f3a"
            ],
            [
             0.8888888888888888,
             "#fdca26"
            ],
            [
             1,
             "#f0f921"
            ]
           ],
           "sequentialminus": [
            [
             0,
             "#0d0887"
            ],
            [
             0.1111111111111111,
             "#46039f"
            ],
            [
             0.2222222222222222,
             "#7201a8"
            ],
            [
             0.3333333333333333,
             "#9c179e"
            ],
            [
             0.4444444444444444,
             "#bd3786"
            ],
            [
             0.5555555555555556,
             "#d8576b"
            ],
            [
             0.6666666666666666,
             "#ed7953"
            ],
            [
             0.7777777777777778,
             "#fb9f3a"
            ],
            [
             0.8888888888888888,
             "#fdca26"
            ],
            [
             1,
             "#f0f921"
            ]
           ]
          },
          "colorway": [
           "#636efa",
           "#EF553B",
           "#00cc96",
           "#ab63fa",
           "#FFA15A",
           "#19d3f3",
           "#FF6692",
           "#B6E880",
           "#FF97FF",
           "#FECB52"
          ],
          "font": {
           "color": "#2a3f5f"
          },
          "geo": {
           "bgcolor": "white",
           "lakecolor": "white",
           "landcolor": "#E5ECF6",
           "showlakes": true,
           "showland": true,
           "subunitcolor": "white"
          },
          "hoverlabel": {
           "align": "left"
          },
          "hovermode": "closest",
          "mapbox": {
           "style": "light"
          },
          "paper_bgcolor": "white",
          "plot_bgcolor": "#E5ECF6",
          "polar": {
           "angularaxis": {
            "gridcolor": "white",
            "linecolor": "white",
            "ticks": ""
           },
           "bgcolor": "#E5ECF6",
           "radialaxis": {
            "gridcolor": "white",
            "linecolor": "white",
            "ticks": ""
           }
          },
          "scene": {
           "xaxis": {
            "backgroundcolor": "#E5ECF6",
            "gridcolor": "white",
            "gridwidth": 2,
            "linecolor": "white",
            "showbackground": true,
            "ticks": "",
            "zerolinecolor": "white"
           },
           "yaxis": {
            "backgroundcolor": "#E5ECF6",
            "gridcolor": "white",
            "gridwidth": 2,
            "linecolor": "white",
            "showbackground": true,
            "ticks": "",
            "zerolinecolor": "white"
           },
           "zaxis": {
            "backgroundcolor": "#E5ECF6",
            "gridcolor": "white",
            "gridwidth": 2,
            "linecolor": "white",
            "showbackground": true,
            "ticks": "",
            "zerolinecolor": "white"
           }
          },
          "shapedefaults": {
           "line": {
            "color": "#2a3f5f"
           }
          },
          "ternary": {
           "aaxis": {
            "gridcolor": "white",
            "linecolor": "white",
            "ticks": ""
           },
           "baxis": {
            "gridcolor": "white",
            "linecolor": "white",
            "ticks": ""
           },
           "bgcolor": "#E5ECF6",
           "caxis": {
            "gridcolor": "white",
            "linecolor": "white",
            "ticks": ""
           }
          },
          "title": {
           "x": 0.05
          },
          "xaxis": {
           "automargin": true,
           "gridcolor": "white",
           "linecolor": "white",
           "ticks": "",
           "title": {
            "standoff": 15
           },
           "zerolinecolor": "white",
           "zerolinewidth": 2
          },
          "yaxis": {
           "automargin": true,
           "gridcolor": "white",
           "linecolor": "white",
           "ticks": "",
           "title": {
            "standoff": 15
           },
           "zerolinecolor": "white",
           "zerolinewidth": 2
          }
         }
        },
        "title": {
         "text": "Restock Urgency by Product Category"
        }
       }
      },
      "image/png": "[encoded data removed]",
      "text/html": [
       "<div>                            <div id=\"b9a45f19-5ee5-4962-ae83-59d014cc3f4f\" class=\"plotly-graph-div\" style=\"height:525px; width:100%;\"></div>            <script type=\"text/javascript\">                require([\"plotly\"], function(Plotly) {                    window.PLOTLYENV=window.PLOTLYENV || {};                                    if (document.getElementById(\"b9a45f19-5ee5-4962-ae83-59d014cc3f4f\")) {                    Plotly.newPlot(                        \"b9a45f19-5ee5-4962-ae83-59d014cc3f4f\",                        [{\"branchvalues\":\"total\",\"customdata\":[[false],[false],[false],[false],[false],[false],[false],[false],[false],[false],[false],[false],[false],[false],[false],[true],[true],[true],[true],[true],[\"(?)\"],[\"(?)\"],[false],[\"(?)\"]],\"domain\":{\"x\":[0.0,1.0],\"y\":[0.0,1.0]},\"hovertemplate\":\"labels=%{label}\\u003cbr\\u003ereorder_qty=%{value}\\u003cbr\\u003eparent=%{parent}\\u003cbr\\u003eid=%{id}\\u003cbr\\u003estockout?=%{customdata[0]}\\u003cextra\\u003e\\u003c\\u002fextra\\u003e\",\"ids\":[\"Toys\\u002fP001\",\"Home\\u002fP018\",\"Home\\u002fP017\",\"Toys\\u002fP016\",\"Toys\\u002fP014\",\"Home\\u002fP013\",\"Beauty\\u002fP012\",\"Home\\u002fP019\",\"Electronics\\u002fP010\",\"Beauty\\u002fP008\",\"Electronics\\u002fP007\",\"Electronics\\u002fP005\",\"Toys\\u002fP004\",\"Beauty\\u002fP002\",\"Electronics\\u002fP020\",\"Electronics\\u002fP011\",\"Beauty\\u002fP006\",\"Electronics\\u002fP015\",\"Toys\\u002fP003\",\"Beauty\\u002fP009\",\"Beauty\",\"Electronics\",\"Home\",\"Toys\"],\"labels\":[\"P001\",\"P018\",\"P017\",\"P016\",\"P014\",\"P013\",\"P012\",\"P019\",\"P010\",\"P008\",\"P007\",\"P005\",\"P004\",\"P002\",\"P020\",\"P011\",\"P006\",\"P015\",\"P003\",\"P009\",\"Beauty\",\"Electronics\",\"Home\",\"Toys\"],\"marker\":{\"colors\":[\"green\",\"green\",\"green\",\"green\",\"green\",\"green\",\"green\",\"green\",\"green\",\"green\",\"green\",\"green\",\"green\",\"green\",\"green\",\"red\",\"red\",\"red\",\"red\",\"red\",\"#00cc96\",\"#00cc96\",\"green\",\"#00cc96\"]},\"name\":\"\",\"parents\":[\"Toys\",\"Home\",\"Home\",\"Toys\",\"Toys\",\"Home\",\"Beauty\",\"Home\",\"Electronics\",\"Beauty\",\"Electronics\",\"Electronics\",\"Toys\",\"Beauty\",\"Electronics\",\"Electronics\",\"Beauty\",\"Electronics\",\"Toys\",\"Beauty\",\"\",\"\",\"\",\"\"],\"values\":[0.0,0.0,0.0,0.0,0.0,0.0,31.0,0.0,0.0,40.0,0.0,0.0,0.0,0.0,58.0,140.0,143.0,167.0,154.0,147.0,361.0,365.0,0.0,154.0],\"type\":\"treemap\"}],                        {\"template\":{\"data\":{\"histogram2dcontour\":[{\"type\":\"histogram2dcontour\",\"colorbar\":{\"outlinewidth\":0,\"ticks\":\"\"},\"colorscale\":[[0.0,\"#0d0887\"],[0.1111111111111111,\"#46039f\"],[0.2222222222222222,\"#7201a8\"],[0.3333333333333333,\"#9c179e\"],[0.4444444444444444,\"#bd3786\"],[0.5555555555555556,\"#d8576b\"],[0.6666666666666666,\"#ed7953\"],[0.7777777777777778,\"#fb9f3a\"],[0.8888888888888888,\"#fdca26\"],[1.0,\"#f0f921\"]]}],\"choropleth\":[{\"type\":\"choropleth\",\"colorbar\":{\"outlinewidth\":0,\"ticks\":\"\"}}],\"histogram2d\":[{\"type\":\"histogram2d\",\"colorbar\":{\"outlinewidth\":0,\"ticks\":\"\"},\"colorscale\":[[0.0,\"#0d0887\"],[0.1111111111111111,\"#46039f\"],[0.2222222222222222,\"#7201a8\"],[0.3333333333333333,\"#9c179e\"],[0.4444444444444444,\"#bd3786\"],[0.5555555555555556,\"#d8576b\"],[0.6666666666666666,\"#ed7953\"],[0.7777777777777778,\"#fb9f3a\"],[0.8888888888888888,\"#fdca26\"],[1.0,\"#f0f921\"]]}],\"heatmap\":[{\"type\":\"heatmap\",\"colorbar\":{\"outlinewidth\":0,\"ticks\":\"\"},\"colorscale\":[[0.0,\"#0d0887\"],[0.1111111111111111,\"#46039f\"],[0.2222222222222222,\"#7201a8\"],[0.3333333333333333,\"#9c179e\"],[0.4444444444444444,\"#bd3786\"],[0.5555555555555556,\"#d8576b\"],[0.6666666666666666,\"#ed7953\"],[0.7777777777777778,\"#fb9f3a\"],[0.8888888888888888,\"#fdca26\"],[1.0,\"#f0f921\"]]}],\"heatmapgl\":[{\"type\":\"heatmapgl\",\"colorbar\":{\"outlinewidth\":0,\"ticks\":\"\"},\"colorscale\":[[0.0,\"#0d0887\"],[0.1111111111111111,\"#46039f\"],[0.2222222222222222,\"#7201a8\"],[0.3333333333333333,\"#9c179e\"],[0.4444444444444444,\"#bd3786\"],[0.5555555555555556,\"#d8576b\"],[0.6666666666666666,\"#ed7953\"],[0.7777777777777778,\"#fb9f3a\"],[0.8888888888888888,\"#fdca26\"],[1.0,\"#f0f921\"]]}],\"contourcarpet\":[{\"type\":\"contourcarpet\",\"colorbar\":{\"outlinewidth\":0,\"ticks\":\"\"}}],\"contour\":[{\"type\":\"contour\",\"colorbar\":{\"outlinewidth\":0,\"ticks\":\"\"},\"colorscale\":[[0.0,\"#0d0887\"],[0.1111111111111111,\"#46039f\"],[0.2222222222222222,\"#7201a8\"],[0.3333333333333333,\"#9c179e\"],[0.4444444444444444,\"#bd3786\"],[0.5555555555555556,\"#d8576b\"],[0.6666666666666666,\"#ed7953\"],[0.7777777777777778,\"#fb9f3a\"],[0.8888888888888888,\"#fdca26\"],[1.0,\"#f0f921\"]]}],\"surface\":[{\"type\":\"surface\",\"colorbar\":{\"outlinewidth\":0,\"ticks\":\"\"},\"colorscale\":[[0.0,\"#0d0887\"],[0.1111111111111111,\"#46039f\"],[0.2222222222222222,\"#7201a8\"],[0.3333333333333333,\"#9c179e\"],[0.4444444444444444,\"#bd3786\"],[0.5555555555555556,\"#d8576b\"],[0.6666666666666666,\"#ed7953\"],[0.7777777777777778,\"#fb9f3a\"],[0.8888888888888888,\"#fdca26\"],[1.0,\"#f0f921\"]]}],\"mesh3d\":[{\"type\":\"mesh3d\",\"colorbar\":{\"outlinewidth\":0,\"ticks\":\"\"}}],\"scatter\":[{\"fillpattern\":{\"fillmode\":\"overlay\",\"size\":10,\"solidity\":0.2},\"type\":\"scatter\"}],\"parcoords\":[{\"type\":\"parcoords\",\"line\":{\"colorbar\":{\"outlinewidth\":0,\"ticks\":\"\"}}}],\"scatterpolargl\":[{\"type\":\"scatterpolargl\",\"marker\":{\"colorbar\":{\"outlinewidth\":0,\"ticks\":\"\"}}}],\"bar\":[{\"error_x\":{\"color\":\"#2a3f5f\"},\"error_y\":{\"color\":\"#2a3f5f\"},\"marker\":{\"line\":{\"color\":\"#E5ECF6\",\"width\":0.5},\"pattern\":{\"fillmode\":\"overlay\",\"size\":10,\"solidity\":0.2}},\"type\":\"bar\"}],\"scattergeo\":[{\"type\":\"scattergeo\",\"marker\":{\"colorbar\":{\"outlinewidth\":0,\"ticks\":\"\"}}}],\"scatterpolar\":[{\"type\":\"scatterpolar\",\"marker\":{\"colorbar\":{\"outlinewidth\":0,\"ticks\":\"\"}}}],\"histogram\":[{\"marker\":{\"pattern\":{\"fillmode\":\"overlay\",\"size\":10,\"solidity\":0.2}},\"type\":\"histogram\"}],\"scattergl\":[{\"type\":\"scattergl\",\"marker\":{\"colorbar\":{\"outlinewidth\":0,\"ticks\":\"\"}}}],\"scatter3d\":[{\"type\":\"scatter3d\",\"line\":{\"colorbar\":{\"outlinewidth\":0,\"ticks\":\"\"}},\"marker\":{\"colorbar\":{\"outlinewidth\":0,\"ticks\":\"\"}}}],\"scattermapbox\":[{\"type\":\"scattermapbox\",\"marker\":{\"colorbar\":{\"outlinewidth\":0,\"ticks\":\"\"}}}],\"scatterternary\":[{\"type\":\"scatterternary\",\"marker\":{\"colorbar\":{\"outlinewidth\":0,\"ticks\":\"\"}}}],\"scattercarpet\":[{\"type\":\"scattercarpet\",\"marker\":{\"colorbar\":{\"outlinewidth\":0,\"ticks\":\"\"}}}],\"carpet\":[{\"aaxis\":{\"endlinecolor\":\"#2a3f5f\",\"gridcolor\":\"white\",\"linecolor\":\"white\",\"minorgridcolor\":\"white\",\"startlinecolor\":\"#2a3f5f\"},\"baxis\":{\"endlinecolor\":\"#2a3f5f\",\"gridcolor\":\"white\",\"linecolor\":\"white\",\"minorgridcolor\":\"white\",\"startlinecolor\":\"#2a3f5f\"},\"type\":\"carpet\"}],\"table\":[{\"cells\":{\"fill\":{\"color\":\"#EBF0F8\"},\"line\":{\"color\":\"white\"}},\"header\":{\"fill\":{\"color\":\"#C8D4E3\"},\"line\":{\"color\":\"white\"}},\"type\":\"table\"}],\"barpolar\":[{\"marker\":{\"line\":{\"color\":\"#E5ECF6\",\"width\":0.5},\"pattern\":{\"fillmode\":\"overlay\",\"size\":10,\"solidity\":0.2}},\"type\":\"barpolar\"}],\"pie\":[{\"automargin\":true,\"type\":\"pie\"}]},\"layout\":{\"autotypenumbers\":\"strict\",\"colorway\":[\"#636efa\",\"#EF553B\",\"#00cc96\",\"#ab63fa\",\"#FFA15A\",\"#19d3f3\",\"#FF6692\",\"#B6E880\",\"#FF97FF\",\"#FECB52\"],\"font\":{\"color\":\"#2a3f5f\"},\"hovermode\":\"closest\",\"hoverlabel\":{\"align\":\"left\"},\"paper_bgcolor\":\"white\",\"plot_bgcolor\":\"#E5ECF6\",\"polar\":{\"bgcolor\":\"#E5ECF6\",\"angularaxis\":{\"gridcolor\":\"white\",\"linecolor\":\"white\",\"ticks\":\"\"},\"radialaxis\":{\"gridcolor\":\"white\",\"linecolor\":\"white\",\"ticks\":\"\"}},\"ternary\":{\"bgcolor\":\"#E5ECF6\",\"aaxis\":{\"gridcolor\":\"white\",\"linecolor\":\"white\",\"ticks\":\"\"},\"baxis\":{\"gridcolor\":\"white\",\"linecolor\":\"white\",\"ticks\":\"\"},\"caxis\":{\"gridcolor\":\"white\",\"linecolor\":\"white\",\"ticks\":\"\"}},\"coloraxis\":{\"colorbar\":{\"outlinewidth\":0,\"ticks\":\"\"}},\"colorscale\":{\"sequential\":[[0.0,\"#0d0887\"],[0.1111111111111111,\"#46039f\"],[0.2222222222222222,\"#7201a8\"],[0.3333333333333333,\"#9c179e\"],[0.4444444444444444,\"#bd3786\"],[0.5555555555555556,\"#d8576b\"],[0.6666666666666666,\"#ed7953\"],[0.7777777777777778,\"#fb9f3a\"],[0.8888888888888888,\"#fdca26\"],[1.0,\"#f0f921\"]],\"sequentialminus\":[[0.0,\"#0d0887\"],[0.1111111111111111,\"#46039f\"],[0.2222222222222222,\"#7201a8\"],[0.3333333333333333,\"#9c179e\"],[0.4444444444444444,\"#bd3786\"],[0.5555555555555556,\"#d8576b\"],[0.6666666666666666,\"#ed7953\"],[0.7777777777777778,\"#fb9f3a\"],[0.8888888888888888,\"#fdca26\"],[1.0,\"#f0f921\"]],\"diverging\":[[0,\"#8e0152\"],[0.1,\"#c51b7d\"],[0.2,\"#de77ae\"],[0.3,\"#f1b6da\"],[0.4,\"#fde0ef\"],[0.5,\"#f7f7f7\"],[0.6,\"#e6f5d0\"],[0.7,\"#b8e186\"],[0.8,\"#7fbc41\"],[0.9,\"#4d9221\"],[1,\"#276419\"]]},\"xaxis\":{\"gridcolor\":\"white\",\"linecolor\":\"white\",\"ticks\":\"\",\"title\":{\"standoff\":15},\"zerolinecolor\":\"white\",\"automargin\":true,\"zerolinewidth\":2},\"yaxis\":{\"gridcolor\":\"white\",\"linecolor\":\"white\",\"ticks\":\"\",\"title\":{\"standoff\":15},\"zerolinecolor\":\"white\",\"automargin\":true,\"zerolinewidth\":2},\"scene\":{\"xaxis\":{\"backgroundcolor\":\"#E5ECF6\",\"gridcolor\":\"white\",\"linecolor\":\"white\",\"showbackground\":true,\"ticks\":\"\",\"zerolinecolor\":\"white\",\"gridwidth\":2},\"yaxis\":{\"backgroundcolor\":\"#E5ECF6\",\"gridcolor\":\"white\",\"linecolor\":\"white\",\"showbackground\":true,\"ticks\":\"\",\"zerolinecolor\":\"white\",\"gridwidth\":2},\"zaxis\":{\"backgroundcolor\":\"#E5ECF6\",\"gridcolor\":\"white\",\"linecolor\":\"white\",\"showbackground\":true,\"ticks\":\"\",\"zerolinecolor\":\"white\",\"gridwidth\":2}},\"shapedefaults\":{\"line\":{\"color\":\"#2a3f5f\"}},\"annotationdefaults\":{\"arrowcolor\":\"#2a3f5f\",\"arrowhead\":0,\"arrowwidth\":1},\"geo\":{\"bgcolor\":\"white\",\"landcolor\":\"#E5ECF6\",\"subunitcolor\":\"white\",\"showland\":true,\"showlakes\":true,\"lakecolor\":\"white\"},\"title\":{\"x\":0.05},\"mapbox\":{\"style\":\"light\"}}},\"legend\":{\"tracegroupgap\":0},\"title\":{\"text\":\"Restock Urgency by Product Category\"}},                        {\"responsive\": true}                    ).then(function(){\n",
       "                            \n",
       "var gd = document.getElementById('b9a45f19-5ee5-4962-ae83-59d014cc3f4f');\n",
       "var x = new MutationObserver(function (mutations, observer) {{\n",
       "        var display = window.getComputedStyle(gd).display;\n",
       "        if (!display || display === 'none') {{\n",
       "            console.log([gd, 'removed!']);\n",
       "            Plotly.purge(gd);\n",
       "            observer.disconnect();\n",
       "        }}\n",
       "}});\n",
       "\n",
       "// Listen for the removal of the full notebook cells\n",
       "var notebookContainer = gd.closest('#notebook-container');\n",
       "if (notebookContainer) {{\n",
       "    x.observe(notebookContainer, {childList: true});\n",
       "}}\n",
       "\n",
       "// Listen for the clearing of the current output cell\n",
       "var outputEl = gd.closest('.output');\n",
       "if (outputEl) {{\n",
       "    x.observe(outputEl, {childList: true});\n",
       "}}\n",
       "\n",
       "                        })                };                });            </script>        </div>"
      ]
     },
     "metadata": {},
     "output_type": "display_data"
    }
   ],
   "source": [
    "fig = px.treemap(product_df, \n",
    "                 path=['category', 'product_id'], \n",
    "                 values='reorder_qty',\n",
    "                 color='stockout?',\n",
    "                 color_discrete_map={True: 'red', False: 'green'}, \n",
    "                 title='Restock Urgency by Product Category')\n",
    "fig\n"
   ]
  },
  {
   "cell_type": "markdown",
   "id": "6f4c1499-2c73-41ba-babd-97e6762f6780",
   "metadata": {},
   "source": [
    "## Conclusion"
   ]
  },
  {
   "cell_type": "markdown",
   "id": "d00f9b1f-3207-4905-adc3-5df328aa341b",
   "metadata": {},
   "source": [
    "In the first figure (heatmap), the urgency of restock is given by the shade of red, with darker being more urgent. We also see the quantity of products we need to reorder in consideration of the forecasted 30 day prediction.\n",
    "\n",
    "**We see that we should focus on reorder large amounts of product P003, P006, P009, P011, and P015 (with their amounts specified in the chart). These are the products that are at high risk of becoming out of stock. As for the other products, we need to order more as the forecasted sell of the products is more than what we currently have in the inventory.**\n",
    "\n",
    "\n",
    "In the second figure (treemap), the restock urgency of each product is grouped into their product category. The size of each product gives the proportion of the quantity needed in comparison to others. A red box means the product is at high risk of stockout while the green isn't. "
   ]
  },
  {
   "cell_type": "markdown",
   "id": "aa9e8233-3e77-4f05-9959-95db18fff05c",
   "metadata": {},
   "source": [
    "Limitations: There can be unforeseen trends in the next 30 days that aren't accurately predicted by the random forest model. The random forest model also takes a considerable amount of time to generate predictions. Additionally, for further research, we might look into costs of ordering products as that information is not given."
   ]
  },
  {
   "cell_type": "code",
   "execution_count": null,
   "id": "98227bb0-132f-4fa6-9e3b-115202b39ac9",
   "metadata": {},
   "outputs": [],
   "source": []
  }
 ],
 "metadata": {
  "kernelspec": {
   "display_name": "Python [conda env:jcpdemo]",
   "language": "python",
   "name": "conda-env-jcpdemo-py"
  },
  "language_info": {
   "codemirror_mode": {
    "name": "ipython",
    "version": 3
   },
   "file_extension": ".py",
   "mimetype": "text/x-python",
   "name": "python",
   "nbconvert_exporter": "python",
   "pygments_lexer": "ipython3",
   "version": "3.13.1"
  }
 },
 "nbformat": 4,
 "nbformat_minor": 5
}
